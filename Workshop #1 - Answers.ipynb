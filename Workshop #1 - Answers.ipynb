{
 "cells": [
  {
   "cell_type": "markdown",
   "metadata": {},
   "source": [
    "<h1 style=\"color: #0098a5;\">Advanced Data Analytics</h1>\n",
    "<h2>Workshop #1</h2>\n",
    "\n",
    "**Michael Steven Medina Fernández *0000296297***  \n",
    "**Ana María Chaves Pérez *0000298879***"
   ]
  },
  {
   "cell_type": "markdown",
   "metadata": {},
   "source": [
    "## Excercise #1\n",
    "\n",
    "1. Write a function char_count(s: str) -> dict[str, int] that returns a dictionary\n",
    "mapping each character in the string s to its frequency. "
   ]
  },
  {
   "cell_type": "code",
   "execution_count": 1,
   "metadata": {},
   "outputs": [
    {
     "name": "stdout",
     "output_type": "stream",
     "text": [
      "{'t': 2, 'e': 2, 's': 3, ' ': 1, 'S': 1, 'u': 2, 'c': 2, 'f': 1, 'l': 1}\n"
     ]
    }
   ],
   "source": [
    "def char_count(s:str):\n",
    "    wordchar = {}\n",
    "    for i in s:\n",
    "        wordchar[i] = wordchar.get(i,0) + 1\n",
    "    print(wordchar)\n",
    "       \n",
    "char_count(\"test Successful\")"
   ]
  },
  {
   "cell_type": "markdown",
   "metadata": {},
   "source": [
    "2. Write a function generate_primes(n: int) -> list[int] that generates a list of all\n",
    "prime numbers less than or equal to n. (5 points)"
   ]
  },
  {
   "cell_type": "code",
   "execution_count": 2,
   "metadata": {},
   "outputs": [
    {
     "ename": "NameError",
     "evalue": "name 'n' is not defined",
     "output_type": "error",
     "traceback": [
      "\u001b[1;31m---------------------------------------------------------------------------\u001b[0m",
      "\u001b[1;31mNameError\u001b[0m                                 Traceback (most recent call last)",
      "Cell \u001b[1;32mIn[2], line 15\u001b[0m\n\u001b[0;32m     12\u001b[0m     \u001b[38;5;28;01mreturn\u001b[39;00m \u001b[38;5;28;01mTrue\u001b[39;00m\n\u001b[0;32m     14\u001b[0m \u001b[38;5;66;03m# Generation of the list that show the prime numbers less or equal\u001b[39;00m\n\u001b[1;32m---> 15\u001b[0m primes \u001b[38;5;241m=\u001b[39m [x \u001b[38;5;28;01mfor\u001b[39;00m x \u001b[38;5;129;01min\u001b[39;00m \u001b[38;5;28mrange\u001b[39m(\u001b[38;5;241m2\u001b[39m, \u001b[43mn\u001b[49m) \u001b[38;5;28;01mif\u001b[39;00m generate_primes(x)]\n\u001b[0;32m     17\u001b[0m \u001b[38;5;66;03m# Pedir el número antes de usarlo\u001b[39;00m\n\u001b[0;32m     18\u001b[0m n \u001b[38;5;241m=\u001b[39m \u001b[38;5;28mint\u001b[39m(\u001b[38;5;28minput\u001b[39m(\u001b[38;5;124m\"\u001b[39m\u001b[38;5;124mType a number: \u001b[39m\u001b[38;5;124m\"\u001b[39m))\n",
      "\u001b[1;31mNameError\u001b[0m: name 'n' is not defined"
     ]
    }
   ],
   "source": [
    "# Function that checks if a number is prime\n",
    "def generate_primes(n: int):\n",
    "    # Checking if the number is less than 2, if it is the case them are NOT prime numbers\n",
    "    if n < 2:\n",
    "        return False\n",
    "    \n",
    "    # Checking divisor from 2 to the sqaure root of n\n",
    "    for i in range(2, int(n**0.5) + 1):\n",
    "        # Checking the modules of the numbers \n",
    "        if n % i == 0:\n",
    "            return False\n",
    "    return True\n",
    "    \n",
    "# Generation of the list that show the prime numbers less or equal\n",
    "primes = [x for x in range(2, n) if generate_primes(x)]\n",
    "\n",
    "# Pedir el número antes de usarlo\n",
    "n = int(input(\"Type a number: \"))\n",
    "\n",
    "# Imprimir los resultados\n",
    "print(f\"This is the list of all prime numbers less or equal to {n}: {primes}\")\n"
   ]
  },
  {
   "cell_type": "markdown",
   "metadata": {},
   "source": [
    "3. Write a function is_prime(n: int) -> bool that checks whether a given number n is\n",
    "a prime number. Return True if n is prime, False otherwise. (5 points)"
   ]
  },
  {
   "cell_type": "code",
   "execution_count": 102,
   "metadata": {},
   "outputs": [
    {
     "data": {
      "text/plain": [
       "False"
      ]
     },
     "execution_count": 102,
     "metadata": {},
     "output_type": "execute_result"
    }
   ],
   "source": [
    "def  is_Prime(n:int):\n",
    "    for i in range (2,n):\n",
    "        if n % i == 0:\n",
    "            return False\n",
    "    return True\n",
    "\n",
    "\n",
    "is_Prime(4)\n"
   ]
  },
  {
   "cell_type": "code",
   "execution_count": 103,
   "metadata": {},
   "outputs": [
    {
     "data": {
      "text/plain": [
       "True"
      ]
     },
     "execution_count": 103,
     "metadata": {},
     "output_type": "execute_result"
    }
   ],
   "source": [
    "is_Prime(887)"
   ]
  },
  {
   "cell_type": "markdown",
   "metadata": {},
   "source": [
    "## Excercise #2"
   ]
  },
  {
   "cell_type": "code",
   "execution_count": 99,
   "metadata": {},
   "outputs": [
    {
     "name": "stdout",
     "output_type": "stream",
     "text": [
      "Hola\n"
     ]
    }
   ],
   "source": [
    "print(\"Hola\")"
   ]
  },
  {
   "cell_type": "markdown",
   "metadata": {},
   "source": [
    "## Excersise #3"
   ]
  }
 ],
 "metadata": {
  "kernelspec": {
   "display_name": "base",
   "language": "python",
   "name": "python3"
  },
  "language_info": {
   "codemirror_mode": {
    "name": "ipython",
    "version": 3
   },
   "file_extension": ".py",
   "mimetype": "text/x-python",
   "name": "python",
   "nbconvert_exporter": "python",
   "pygments_lexer": "ipython3",
   "version": "3.10.9"
  }
 },
 "nbformat": 4,
 "nbformat_minor": 2
}
