{
 "cells": [
  {
   "cell_type": "markdown",
   "metadata": {},
   "source": [
    "<h1 style=\"color: #0098a5;\">Advanced Data Analytics</h1>\n",
    "<h2>Workshop #1</h2>\n",
    "\n",
    "**Michael Steven Medina Fernández *0000296297***  \n",
    "**Ana María Chaves Pérez *0000298879***"
   ]
  },
  {
   "cell_type": "markdown",
   "metadata": {},
   "source": [
    "## Exercise #1\n",
    "\n",
    "*Explores Python concepts with creative and practical tasks*"
   ]
  },
  {
   "cell_type": "markdown",
   "metadata": {},
   "source": [
    "1. Write a function ***char_count(s: str) -> dict[str, int]*** that returns a dictionary\n",
    "mapping each character in the string s to its frequency. "
   ]
  },
  {
   "cell_type": "code",
   "execution_count": 46,
   "metadata": {},
   "outputs": [],
   "source": [
    "def char_count(s:str):\n",
    "    wordchar = {}\n",
    "    for i in s:\n",
    "        wordchar[i] = wordchar.get(i,0) + 1\n",
    "    return wordchar\n",
    "    "
   ]
  },
  {
   "cell_type": "markdown",
   "metadata": {},
   "source": [
    "2. Write a function ***generate_primes(n: int) -> list[int]*** that generates a list of all\n",
    "prime numbers less than or equal to n. (5 points)"
   ]
  },
  {
   "cell_type": "code",
   "execution_count": 47,
   "metadata": {},
   "outputs": [
    {
     "name": "stdout",
     "output_type": "stream",
     "text": [
      "This is the list of all prime numbers less or equal to 20: [2, 3, 5, 7, 11, 13, 17, 19]\n"
     ]
    }
   ],
   "source": [
    "# Function that checks if a number is prime\n",
    "def generate_primes(n: int):\n",
    "    # Checking if the number is less than 2, if it is the case them are NOT prime numbers\n",
    "    if n < 2:\n",
    "        return False\n",
    "    \n",
    "    # Checking divisor from 2 to the sqaure root of n\n",
    "    for i in range(2, int(n**0.5) + 1):\n",
    "        # Checking the modules of the numbers \n",
    "        if n % i == 0:\n",
    "            return False\n",
    "    return True\n",
    "    \n",
    "# Generation of the list that show the prime numbers less or equal\n",
    "primes = [x for x in range(2, 20) if generate_primes(x)]\n",
    "\n",
    "# Imprimir los resultados\n",
    "print(f\"This is the list of all prime numbers less or equal to {20}: {primes}\")\n"
   ]
  },
  {
   "cell_type": "markdown",
   "metadata": {},
   "source": [
    "3. Write a function ***is_prime(n: int) -> bool*** that checks whether a given number n is\n",
    "a prime number. Return True if n is prime, False otherwise. (5 points)"
   ]
  },
  {
   "cell_type": "code",
   "execution_count": 48,
   "metadata": {},
   "outputs": [],
   "source": [
    "def is_Prime(n:int):\n",
    "    if n == 0 or n==1:\n",
    "        return False\n",
    "    for i in range (2,n):\n",
    "        if n % i == 0:\n",
    "            return False\n",
    "    return True\n"
   ]
  },
  {
   "cell_type": "markdown",
   "metadata": {},
   "source": []
  },
  {
   "cell_type": "code",
   "execution_count": 49,
   "metadata": {},
   "outputs": [
    {
     "data": {
      "text/html": [
       "\n",
       "    <style>\n",
       "        table {\n",
       "            width: 100%;\n",
       "            border-collapse: collapse;\n",
       "            margin: 20px 0;\n",
       "            font-size: 14px; /* Smaller text */\n",
       "            text-align: left;\n",
       "        }\n",
       "        th {\n",
       "            background-color: #4CAF50;\n",
       "            color: white;\n",
       "            padding: 6px;\n",
       "            font-size: 13px;\n",
       "        }\n",
       "        tr:nth-child(even) {\n",
       "            background-color: #f2f2f2;\n",
       "        }\n",
       "        td {\n",
       "            padding: 6px;\n",
       "            font-size: 11px; /* Smaller text inside cells */\n",
       "            max-width: 200px; /* Set max width for each cell */\n",
       "            word-wrap: break-word; /* Ensure text wraps properly */\n",
       "            white-space: normal; /* Allow text to wrap */\n",
       "            overflow-wrap: break-word; /* Ensure breaking works */\n",
       "        }\n",
       "        h2 {\n",
       "            color: #4CAF50; /* Green title */\n",
       "            font-size: 18px; /* Smaller title */\n",
       "        }\n",
       "    </style>\n",
       "    <h2>EXERCISE #1</h2>\n",
       "    <table>\n",
       "<thead>\n",
       "<tr><th style=\"text-align: right;\">  #</th><th>Task           </th><th>Input      </th><th>Result                  </th><th>Expected                </th><th>Status  </th></tr>\n",
       "</thead>\n",
       "<tbody>\n",
       "<tr><td style=\"text-align: right;\">  1</td><td>char_count     </td><td>           </td><td>{}                      </td><td>{}                      </td><td><span style=\"color:green;\n",
       "font-\n",
       "weight:bold;\">PASS</span>         </td></tr>\n",
       "<tr><td style=\"text-align: right;\">  2</td><td>char_count     </td><td>test123    </td><td>{'t': 2, 'e': 1, 's': 1,\n",
       "'1': 1, '2': 1, '3': 1}                         </td><td>{'2': 1, 's': 1, 't': 2,\n",
       "'3': 1, '1': 1, 'e': 1}                         </td><td><span style=\"color:green;\n",
       "font-\n",
       "weight:bold;\">PASS</span>         </td></tr>\n",
       "<tr><td style=\"text-align: right;\">  3</td><td>char_count     </td><td>!@#        </td><td>{'!': 1, '@': 1, '#': 1}</td><td>{'!': 1, '#': 1, '@': 1}</td><td><span style=\"color:green;\n",
       "font-\n",
       "weight:bold;\">PASS</span>         </td></tr>\n",
       "<tr><td style=\"text-align: right;\">  4</td><td>char_count     </td><td>1122334455 </td><td>{'1': 2, '2': 2, '3': 2,\n",
       "'4': 2, '5': 2}                         </td><td>{'2': 2, '4': 2, '3': 2,\n",
       "'1': 2, '5': 2}                         </td><td><span style=\"color:green;\n",
       "font-\n",
       "weight:bold;\">PASS</span>         </td></tr>\n",
       "<tr><td style=\"text-align: right;\">  5</td><td>char_count     </td><td>hello world</td><td>{'h': 1, 'e': 1, 'l': 3,\n",
       "'o': 2, ' ': 1, 'w': 1,\n",
       "'r': 1, 'd': 1}                         </td><td>{'o': 2, 'w': 1, 'h': 1,\n",
       "'l': 3, 'r': 1, 'e': 1,\n",
       "'d': 1, ' ': 1}                         </td><td><span style=\"color:green;\n",
       "font-\n",
       "weight:bold;\">PASS</span>         </td></tr>\n",
       "<tr><td style=\"text-align: right;\">  6</td><td>char_count     </td><td>Python3.9  </td><td>{'P': 1, 'y': 1, 't': 1,\n",
       "'h': 1, 'o': 1, 'n': 1,\n",
       "'3': 1, '.': 1, '9': 1}                         </td><td>{'9': 1, 't': 1, 'o': 1,\n",
       "'P': 1, 'y': 1, '3': 1,\n",
       "'h': 1, 'n': 1, '.': 1}                         </td><td><span style=\"color:green;\n",
       "font-\n",
       "weight:bold;\">PASS</span>         </td></tr>\n",
       "<tr><td style=\"text-align: right;\">  7</td><td>char_count     </td><td>ABCabc123  </td><td>{'A': 1, 'B': 1, 'C': 1,\n",
       "'a': 1, 'b': 1, 'c': 1,\n",
       "'1': 1, '2': 1, '3': 1}                         </td><td>{'2': 1, '3': 1, '1': 1,\n",
       "'c': 1, 'A': 1, 'a': 1,\n",
       "'B': 1, 'b': 1, 'C': 1}                         </td><td><span style=\"color:green;\n",
       "font-\n",
       "weight:bold;\">PASS</span>         </td></tr>\n",
       "<tr><td style=\"text-align: right;\">  8</td><td>generate_primes</td><td>0          </td><td>False                   </td><td>[]                      </td><td><span style=\"color:red;\n",
       "font-\n",
       "weight:bold;\">FAIL</span>         </td></tr>\n",
       "<tr><td style=\"text-align: right;\">  9</td><td>generate_primes</td><td>5          </td><td>True                    </td><td>[2, 3, 5]               </td><td><span style=\"color:red;\n",
       "font-\n",
       "weight:bold;\">FAIL</span>         </td></tr>\n",
       "<tr><td style=\"text-align: right;\"> 10</td><td>generate_primes</td><td>75         </td><td>False                   </td><td>[2, 3, 5, 7, 11, 13, 17,\n",
       "19, 23, 29, 31, 37, 41,\n",
       "43, 47, 53, 59, 61, 67,\n",
       "71, 73]                         </td><td><span style=\"color:red;\n",
       "font-\n",
       "weight:bold;\">FAIL</span>         </td></tr>\n",
       "<tr><td style=\"text-align: right;\"> 11</td><td>generate_primes</td><td>7          </td><td>True                    </td><td>[2, 3, 5, 7]            </td><td><span style=\"color:red;\n",
       "font-\n",
       "weight:bold;\">FAIL</span>         </td></tr>\n",
       "<tr><td style=\"text-align: right;\"> 12</td><td>generate_primes</td><td>15         </td><td>False                   </td><td>[2, 3, 5, 7, 11, 13]    </td><td><span style=\"color:red;\n",
       "font-\n",
       "weight:bold;\">FAIL</span>         </td></tr>\n",
       "<tr><td style=\"text-align: right;\"> 13</td><td>generate_primes</td><td>50         </td><td>False                   </td><td>[2, 3, 5, 7, 11, 13, 17,\n",
       "19, 23, 29, 31, 37, 41,\n",
       "43, 47]                         </td><td><span style=\"color:red;\n",
       "font-\n",
       "weight:bold;\">FAIL</span>         </td></tr>\n",
       "<tr><td style=\"text-align: right;\"> 14</td><td>generate_primes</td><td>100        </td><td>False                   </td><td>[2, 3, 5, 7, 11, 13, 17,\n",
       "19, 23, 29, 31, 37, 41,\n",
       "43, 47, 53, 59, 61, 67,\n",
       "71, 73, 79, 83, 89, 97]                         </td><td><span style=\"color:red;\n",
       "font-\n",
       "weight:bold;\">FAIL</span>         </td></tr>\n",
       "<tr><td style=\"text-align: right;\"> 15</td><td>is_prime       </td><td>0          </td><td>False                   </td><td>False                   </td><td><span style=\"color:green;\n",
       "font-\n",
       "weight:bold;\">PASS</span>         </td></tr>\n",
       "<tr><td style=\"text-align: right;\"> 16</td><td>is_prime       </td><td>1          </td><td>False                   </td><td>False                   </td><td><span style=\"color:green;\n",
       "font-\n",
       "weight:bold;\">PASS</span>         </td></tr>\n",
       "<tr><td style=\"text-align: right;\"> 17</td><td>is_prime       </td><td>2          </td><td>True                    </td><td>True                    </td><td><span style=\"color:green;\n",
       "font-\n",
       "weight:bold;\">PASS</span>         </td></tr>\n",
       "<tr><td style=\"text-align: right;\"> 18</td><td>is_prime       </td><td>3          </td><td>True                    </td><td>True                    </td><td><span style=\"color:green;\n",
       "font-\n",
       "weight:bold;\">PASS</span>         </td></tr>\n",
       "<tr><td style=\"text-align: right;\"> 19</td><td>is_prime       </td><td>4          </td><td>False                   </td><td>False                   </td><td><span style=\"color:green;\n",
       "font-\n",
       "weight:bold;\">PASS</span>         </td></tr>\n",
       "<tr><td style=\"text-align: right;\"> 20</td><td>is_prime       </td><td>5          </td><td>True                    </td><td>True                    </td><td><span style=\"color:green;\n",
       "font-\n",
       "weight:bold;\">PASS</span>         </td></tr>\n",
       "<tr><td style=\"text-align: right;\"> 21</td><td>is_prime       </td><td>29         </td><td>True                    </td><td>True                    </td><td><span style=\"color:green;\n",
       "font-\n",
       "weight:bold;\">PASS</span>         </td></tr>\n",
       "</tbody>\n",
       "</table>\n",
       "    "
      ],
      "text/plain": [
       "<IPython.core.display.HTML object>"
      ]
     },
     "metadata": {},
     "output_type": "display_data"
    },
    {
     "data": {
      "text/html": [
       "\n",
       "    <h3 style=\"color: orange; font-size: 13px;\">Exercise #1 Score: 3.33/5.0</h3>\n",
       "    "
      ],
      "text/plain": [
       "<IPython.core.display.HTML object>"
      ]
     },
     "metadata": {},
     "output_type": "display_data"
    },
    {
     "data": {
      "text/plain": [
       "3.33"
      ]
     },
     "execution_count": 49,
     "metadata": {},
     "output_type": "execute_result"
    }
   ],
   "source": [
    "## test Exercise #1\n",
    "\n",
    "from sergioamar.unisabana.I import test_exercise_1,test_exercise_2,test_exercise_3,test_exercise_4,test_exercise_5\n",
    "\n",
    "test_exercise_1(\n",
    "    char_count=char_count,\n",
    "    generate_primes=generate_primes,\n",
    "    is_prime=is_Prime\n",
    ")"
   ]
  },
  {
   "cell_type": "markdown",
   "metadata": {},
   "source": [
    "## Exercise #2\n",
    "\n",
    "*Problems to understand and tackle the basics of mathematical opera-\n",
    "tions in Python*"
   ]
  },
  {
   "cell_type": "markdown",
   "metadata": {},
   "source": [
    "1. Write a function ***factorial(n: int) -> int*** that calculates the factorial of a given\n",
    "number n iteratively. (5 points)"
   ]
  },
  {
   "cell_type": "code",
   "execution_count": 50,
   "metadata": {},
   "outputs": [],
   "source": [
    "# Definition of the function that verify a factorial number\n",
    "def factorial(n):\n",
    "    # Verification if the number is 0 or 1 because its factorial is 1\n",
    "    if n == 0 or n == 1:\n",
    "        return 1\n",
    "    # All the other verifications with a recursive call\n",
    "    else:\n",
    "        # Multiplies n by factorial of n-1\n",
    "        return n*factorial(n-1)"
   ]
  },
  {
   "cell_type": "markdown",
   "metadata": {},
   "source": [
    "2. Write a function ***fibonacci(n: int) -> list[int]*** that generates a list containing the\n",
    "first n numbers in the Fibonacci sequence. (5 points)"
   ]
  },
  {
   "cell_type": "code",
   "execution_count": 51,
   "metadata": {},
   "outputs": [],
   "source": [
    "def fibonacci(n: int):\n",
    "    numbers = [] \n",
    "    a, b = 0, 1 \n",
    "\n",
    "    for i in range(n):\n",
    "        numbers.append(a) \n",
    "        a, b = b, a + b    \n",
    "\n",
    "    return numbers  \n",
    "       "
   ]
  },
  {
   "cell_type": "markdown",
   "metadata": {},
   "source": [
    "3. Write a function ***sum_naturals(n: int) -> int*** that calculates the sum of the first n\n",
    "natural numbers. (5 points)"
   ]
  },
  {
   "cell_type": "code",
   "execution_count": 52,
   "metadata": {},
   "outputs": [],
   "source": [
    "def sum_naturals(n: int):\n",
    "        if n < 1: \n",
    "            return False\n",
    "        else: \n",
    "            return n * (n + 1) // 2"
   ]
  },
  {
   "cell_type": "code",
   "execution_count": 53,
   "metadata": {},
   "outputs": [
    {
     "data": {
      "text/html": [
       "\n",
       "    <style>\n",
       "        table {\n",
       "            width: 100%;\n",
       "            border-collapse: collapse;\n",
       "            margin: 20px 0;\n",
       "            font-size: 14px; /* Smaller text */\n",
       "            text-align: left;\n",
       "        }\n",
       "        th {\n",
       "            background-color: #4CAF50;\n",
       "            color: white;\n",
       "            padding: 6px;\n",
       "            font-size: 13px;\n",
       "        }\n",
       "        tr:nth-child(even) {\n",
       "            background-color: #f2f2f2;\n",
       "        }\n",
       "        td {\n",
       "            padding: 6px;\n",
       "            font-size: 11px; /* Smaller text inside cells */\n",
       "            max-width: 200px; /* Set max width for each cell */\n",
       "            word-wrap: break-word; /* Ensure text wraps properly */\n",
       "            white-space: normal; /* Allow text to wrap */\n",
       "            overflow-wrap: break-word; /* Ensure breaking works */\n",
       "        }\n",
       "        h2 {\n",
       "            color: #4CAF50; /* Green title */\n",
       "            font-size: 18px; /* Smaller title */\n",
       "        }\n",
       "    </style>\n",
       "    <h2>EXERCISE #2</h2>\n",
       "    <table>\n",
       "<thead>\n",
       "<tr><th style=\"text-align: right;\">  #</th><th>Task        </th><th style=\"text-align: right;\">  Input</th><th>Result         </th><th>Expected       </th><th>Status  </th></tr>\n",
       "</thead>\n",
       "<tbody>\n",
       "<tr><td style=\"text-align: right;\">  1</td><td>factorial   </td><td style=\"text-align: right;\">      0</td><td>1              </td><td>1              </td><td><span style=\"color:green;\n",
       "font-\n",
       "weight:bold;\">PASS</span>         </td></tr>\n",
       "<tr><td style=\"text-align: right;\">  2</td><td>factorial   </td><td style=\"text-align: right;\">      1</td><td>1              </td><td>1              </td><td><span style=\"color:green;\n",
       "font-\n",
       "weight:bold;\">PASS</span>         </td></tr>\n",
       "<tr><td style=\"text-align: right;\">  3</td><td>factorial   </td><td style=\"text-align: right;\">      5</td><td>120            </td><td>120            </td><td><span style=\"color:green;\n",
       "font-\n",
       "weight:bold;\">PASS</span>         </td></tr>\n",
       "<tr><td style=\"text-align: right;\">  4</td><td>factorial   </td><td style=\"text-align: right;\">      7</td><td>5040           </td><td>5040           </td><td><span style=\"color:green;\n",
       "font-\n",
       "weight:bold;\">PASS</span>         </td></tr>\n",
       "<tr><td style=\"text-align: right;\">  5</td><td>factorial   </td><td style=\"text-align: right;\">      9</td><td>362880         </td><td>362880         </td><td><span style=\"color:green;\n",
       "font-\n",
       "weight:bold;\">PASS</span>         </td></tr>\n",
       "<tr><td style=\"text-align: right;\">  6</td><td>factorial   </td><td style=\"text-align: right;\">     10</td><td>3628800        </td><td>3628800        </td><td><span style=\"color:green;\n",
       "font-\n",
       "weight:bold;\">PASS</span>         </td></tr>\n",
       "<tr><td style=\"text-align: right;\">  7</td><td>factorial   </td><td style=\"text-align: right;\">     15</td><td>1307674368000  </td><td>1307674368000  </td><td><span style=\"color:green;\n",
       "font-\n",
       "weight:bold;\">PASS</span>         </td></tr>\n",
       "<tr><td style=\"text-align: right;\">  8</td><td>fibonacci   </td><td style=\"text-align: right;\">      0</td><td>[]             </td><td>[]             </td><td><span style=\"color:green;\n",
       "font-\n",
       "weight:bold;\">PASS</span>         </td></tr>\n",
       "<tr><td style=\"text-align: right;\">  9</td><td>fibonacci   </td><td style=\"text-align: right;\">      1</td><td>[0]            </td><td>[0]            </td><td><span style=\"color:green;\n",
       "font-\n",
       "weight:bold;\">PASS</span>         </td></tr>\n",
       "<tr><td style=\"text-align: right;\"> 10</td><td>fibonacci   </td><td style=\"text-align: right;\">      2</td><td>[0, 1]         </td><td>[0, 1]         </td><td><span style=\"color:green;\n",
       "font-\n",
       "weight:bold;\">PASS</span>         </td></tr>\n",
       "<tr><td style=\"text-align: right;\"> 11</td><td>fibonacci   </td><td style=\"text-align: right;\">      3</td><td>[0, 1, 1]      </td><td>[0, 1, 1]      </td><td><span style=\"color:green;\n",
       "font-\n",
       "weight:bold;\">PASS</span>         </td></tr>\n",
       "<tr><td style=\"text-align: right;\"> 12</td><td>fibonacci   </td><td style=\"text-align: right;\">      5</td><td>[0, 1, 1, 2, 3]</td><td>[0, 1, 1, 2, 3]</td><td><span style=\"color:green;\n",
       "font-\n",
       "weight:bold;\">PASS</span>         </td></tr>\n",
       "<tr><td style=\"text-align: right;\"> 13</td><td>fibonacci   </td><td style=\"text-align: right;\">     10</td><td>[0, 1, 1, 2, 3, 5, 8, 13,\n",
       "21, 34]                </td><td>[0, 1, 1, 2, 3, 5, 8, 13,\n",
       "21, 34]                </td><td><span style=\"color:green;\n",
       "font-\n",
       "weight:bold;\">PASS</span>         </td></tr>\n",
       "<tr><td style=\"text-align: right;\"> 14</td><td>fibonacci   </td><td style=\"text-align: right;\">     20</td><td>[0, 1, 1, 2, 3, 5, 8, 13,\n",
       "21, 34, 55, 89, 144, 233,\n",
       "377, 610, 987, 1597,\n",
       "2584, 4181]                </td><td>[0, 1, 1, 2, 3, 5, 8, 13,\n",
       "21, 34, 55, 89, 144, 233,\n",
       "377, 610, 987, 1597,\n",
       "2584, 4181]                </td><td><span style=\"color:green;\n",
       "font-\n",
       "weight:bold;\">PASS</span>         </td></tr>\n",
       "<tr><td style=\"text-align: right;\"> 15</td><td>sum_naturals</td><td style=\"text-align: right;\">      0</td><td>False          </td><td>0              </td><td><span style=\"color:green;\n",
       "font-\n",
       "weight:bold;\">PASS</span>         </td></tr>\n",
       "<tr><td style=\"text-align: right;\"> 16</td><td>sum_naturals</td><td style=\"text-align: right;\">      1</td><td>1              </td><td>1              </td><td><span style=\"color:green;\n",
       "font-\n",
       "weight:bold;\">PASS</span>         </td></tr>\n",
       "<tr><td style=\"text-align: right;\"> 17</td><td>sum_naturals</td><td style=\"text-align: right;\">      5</td><td>15             </td><td>15             </td><td><span style=\"color:green;\n",
       "font-\n",
       "weight:bold;\">PASS</span>         </td></tr>\n",
       "<tr><td style=\"text-align: right;\"> 18</td><td>sum_naturals</td><td style=\"text-align: right;\">     10</td><td>55             </td><td>55             </td><td><span style=\"color:green;\n",
       "font-\n",
       "weight:bold;\">PASS</span>         </td></tr>\n",
       "<tr><td style=\"text-align: right;\"> 19</td><td>sum_naturals</td><td style=\"text-align: right;\">     50</td><td>1275           </td><td>1275           </td><td><span style=\"color:green;\n",
       "font-\n",
       "weight:bold;\">PASS</span>         </td></tr>\n",
       "<tr><td style=\"text-align: right;\"> 20</td><td>sum_naturals</td><td style=\"text-align: right;\">    100</td><td>5050           </td><td>5050           </td><td><span style=\"color:green;\n",
       "font-\n",
       "weight:bold;\">PASS</span>         </td></tr>\n",
       "<tr><td style=\"text-align: right;\"> 21</td><td>sum_naturals</td><td style=\"text-align: right;\">    500</td><td>125250         </td><td>125250         </td><td><span style=\"color:green;\n",
       "font-\n",
       "weight:bold;\">PASS</span>         </td></tr>\n",
       "</tbody>\n",
       "</table>\n",
       "    "
      ],
      "text/plain": [
       "<IPython.core.display.HTML object>"
      ]
     },
     "metadata": {},
     "output_type": "display_data"
    },
    {
     "data": {
      "text/html": [
       "\n",
       "    <h3 style=\"color: green; font-size: 13px;\">Exercise #2 Score: 5.0/5.0</h3>\n",
       "    "
      ],
      "text/plain": [
       "<IPython.core.display.HTML object>"
      ]
     },
     "metadata": {},
     "output_type": "display_data"
    },
    {
     "data": {
      "text/plain": [
       "5.0"
      ]
     },
     "execution_count": 53,
     "metadata": {},
     "output_type": "execute_result"
    }
   ],
   "source": [
    "test_exercise_2(\n",
    "    factorial=factorial,\n",
    "    fibonacci=fibonacci,\n",
    "    sum_naturals=sum_naturals\n",
    ")"
   ]
  },
  {
   "cell_type": "markdown",
   "metadata": {},
   "source": [
    "## Exercise #3\n",
    "\n",
    "*Problems to understand and tackle the basics of statistical operations\n",
    "in Python*"
   ]
  },
  {
   "cell_type": "markdown",
   "metadata": {},
   "source": [
    "1. Write a function ***calculate_stats(data: list[float]) -> tuple[float, float, float]***\n",
    "that calculates the mean, median, and mode of a given list of numbers. (5 points)"
   ]
  },
  {
   "cell_type": "code",
   "execution_count": 54,
   "metadata": {},
   "outputs": [
    {
     "name": "stdout",
     "output_type": "stream",
     "text": [
      "None\n"
     ]
    }
   ],
   "source": [
    "def calculate_stats(data:list[float]):\n",
    "    \n",
    "    #Mean Calculation\n",
    "    mean = sum(data) / len(data)\n",
    "    \n",
    "    #Median Calculation\n",
    "    \n",
    "    sorted_list = sorted(data)\n",
    "    \n",
    "    \n",
    "    \n",
    "\n",
    "data = [1, 2, 2, 3, 4]\n",
    "print(calculate_stats(data))\n",
    "        "
   ]
  },
  {
   "cell_type": "markdown",
   "metadata": {},
   "source": [
    "2. Write a function ***variance_and_std(data: list[float]) -> tuple[float, float]*** that\n",
    "calculates the variance and standard deviation of a dataset. (5 points)"
   ]
  },
  {
   "cell_type": "markdown",
   "metadata": {},
   "source": [
    "3. Write a function ***weighted_mean(data: list[float], weights: list[float]) -> float***\n",
    "that calculates the weighted mean of a dataset data given a corresponding list of weights\n",
    "weights. Ensure both lists have the same length. (5 points)"
   ]
  },
  {
   "cell_type": "markdown",
   "metadata": {},
   "source": [
    "## Exercise #4\n",
    "\n",
    "*Analytical problems to develop problem-solving and logical reasoning\n",
    "in Python*"
   ]
  },
  {
   "cell_type": "markdown",
   "metadata": {},
   "source": [
    "1. Write a function ***is_palindrome(s: str) -> bool*** that checks if a given string s is a\n",
    "palindrome. Return True if it is, False otherwise. (5 points)"
   ]
  },
  {
   "cell_type": "markdown",
   "metadata": {},
   "source": [
    "2. Write a function ***reverse_words(sentence: str) -> str*** that reverses the words in a\n",
    "sentence while preserving their order. (5 points"
   ]
  },
  {
   "cell_type": "markdown",
   "metadata": {},
   "source": [
    "3. Write a function ***find_longest_word(words: list[str]) -> str*** that returns the longest\n",
    "word from a list of strings. If there is a tie, return the first one. (5 points)"
   ]
  },
  {
   "cell_type": "markdown",
   "metadata": {},
   "source": [
    "## Exercise #5\n",
    "\n",
    "*Intermediate-level problems to reinforce Python concepts*"
   ]
  },
  {
   "cell_type": "markdown",
   "metadata": {},
   "source": [
    "1. Write a function ***remove_duplicates(data: list[int]) -> list[int]*** that removes\n",
    "duplicates from a list while preserving the order of elements. (5 points)"
   ]
  },
  {
   "cell_type": "markdown",
   "metadata": {},
   "source": [
    "2. Write a function ***group_by_key(data: list[tuple[str, int]]) -> dict[str, list[int]]***\n",
    "that groups values in data by their keys. For example, the input [(’a’, 1), (’b’, 2),\n",
    "(’a’, 3)] results in the dictionary {’a’: [1, 3], ’b’: [2]}. (5 points)"
   ]
  },
  {
   "cell_type": "markdown",
   "metadata": {},
   "source": [
    "3. Write a function ***flatten_list(nested_list: list[list[int]]) -> list[int]*** that\n",
    "flattens a nested list of integers into a single list. For example, [[1, 2], [3, 4]] becomes\n",
    "[1, 2, 3, 4]. (5 points)"
   ]
  }
 ],
 "metadata": {
  "kernelspec": {
   "display_name": "evaluation",
   "language": "python",
   "name": "python3"
  },
  "language_info": {
   "codemirror_mode": {
    "name": "ipython",
    "version": 3
   },
   "file_extension": ".py",
   "mimetype": "text/x-python",
   "name": "python",
   "nbconvert_exporter": "python",
   "pygments_lexer": "ipython3",
   "version": "3.10.16"
  }
 },
 "nbformat": 4,
 "nbformat_minor": 2
}
