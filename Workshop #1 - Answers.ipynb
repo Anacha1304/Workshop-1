{
 "cells": [
  {
   "cell_type": "markdown",
   "metadata": {},
   "source": [
    "# Advanced Data Analytics\n",
    "## Workshop #1\n",
    "\n",
    "Michael Steven Medina Fernández 0000296297  \n",
    "Ana María Chaves Pérez 0000298879"
   ]
  },
  {
   "cell_type": "markdown",
   "metadata": {},
   "source": []
  },
  {
   "cell_type": "code",
   "execution_count": null,
   "metadata": {},
   "outputs": [],
   "source": []
  }
 ],
 "metadata": {
  "language_info": {
   "name": "python"
  }
 },
 "nbformat": 4,
 "nbformat_minor": 2
}
