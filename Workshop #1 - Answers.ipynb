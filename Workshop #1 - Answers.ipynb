{
 "cells": [
  {
   "cell_type": "markdown",
   "metadata": {},
   "source": [
    "<h1 style=\"color: #0098a5;\">Advanced Data Analytics</h1>\n",
    "<h2>Workshop #1</h2>\n",
    "\n",
    "**Michael Steven Medina Fernández *0000296297***  \n",
    "**Ana María Chaves Pérez *0000298879***"
   ]
  },
  {
   "cell_type": "markdown",
   "metadata": {},
   "source": [
    "## Exercise #1\n",
    "\n",
    "*Explores Python concepts with creative and practical tasks*"
   ]
  },
  {
   "cell_type": "markdown",
   "metadata": {},
   "source": [
    "1. Write a function ***char_count(s: str) -> dict[str, int]*** that returns a dictionary\n",
    "mapping each character in the string s to its frequency. "
   ]
  },
  {
   "cell_type": "code",

   "execution_count": 21,

   "metadata": {},
   "outputs": [],
   "source": [
    "def char_count(s:str):\n",
    "    wordchar = {}  # Empty dictionary to store each character and its frequency\n",
    "    \n",
    "    # Iterate through each character in the string\n",
    "    for i in s:\n",
    "        # If the character is already in the dictionary, increase its count by 1.\n",
    "        # If it's not in the dictionary, initialize it with 0 and then add 1.\n",
    "        wordchar[i] = wordchar.get(i, 0) + 1  \n",
    "    \n",
    "    return wordchar  # Return the dictionary containing character frequencies\n",
    "    "
   ]
  },
  {
   "cell_type": "markdown",
   "metadata": {},
   "source": [
    "2. Write a function ***generate_primes(n: int) -> list[int]*** that generates a list of all\n",
    "prime numbers less than or equal to n. (5 points)"
   ]
  },
  {
   "cell_type": "code",

   "execution_count": 56,

   "metadata": {},
   "outputs": [],
   "source": [
    "# Function that checks if a number is prime\n",
    "def generate_primes(n: int):\n",
    "    # If the numbers are below 2 they return an empty list because them are NOT prime numbers\n",
    "    if n < 2:\n",
    "        return []\n",
    "    \n",
    "    # List of initially prime numbers for tracking\n",
    "    primes = [True] * (n+1)\n",
    "\n",
    "    # 0 and 1 are NOT prime numbers\n",
    "    primes[0] = primes[1] = False\n",
    "    \n",
    "    # Checking divisor from 2 to the sqaure root of n\n",
    "    for i in range(2, int(n**0.5) + 1):\n",
    "        # If prime[i] is true, then i is a prime number\n",
    "        if primes[i]:\n",
    "            # Multiples of i as not prime \n",
    "            for j in range(i * i, n +1, i):\n",
    "                primes[j] = False\n",
    "\n",
    "    # Return a list from i to n that are prime numbers\n",
    "    return [i for i in range(n+1) if primes[i]]\n",
    "\n",
    "\n"
   ]
  },
  {
   "cell_type": "markdown",
   "metadata": {},
   "source": [
    "3. Write a function ***is_prime(n: int) -> bool*** that checks whether a given number n is\n",
    "a prime number. Return True if n is prime, False otherwise. (5 points)"
   ]
  },
  {
   "cell_type": "code",

   "execution_count": 23,

   "metadata": {},
   "outputs": [],
   "source": [
    "def is_Prime(n:int):\n",
    "    # 0 and 1 are not prime numbers.\n",
    "    if n == 0 or n == 1:\n",
    "        return False  \n",
    "    # Check divisibility \n",
    "    for i in range(2, n):\n",
    "        # If n is divisible by any number in this range, it's not prime.\n",
    "        if n % i == 0:\n",
    "            return False  \n",
    "    \n",
    "    # If no divisors were found, the number is prime\n",
    "    return True  \n",
    "\n"
   ]
  },
  {
   "cell_type": "markdown",
   "metadata": {},
   "source": [
    "### tests"
   ]
  },
  {
   "cell_type": "code",

   "metadata": {},
   "outputs": [
    {
     "data": {
      "text/html": [
       "\n",
       "    <style>\n",
       "        table {\n",
       "            width: 100%;\n",
       "            border-collapse: collapse;\n",
       "            margin: 20px 0;\n",
       "            font-size: 14px; /* Smaller text */\n",
       "            text-align: left;\n",
       "        }\n",
       "        th {\n",
       "            background-color: #4CAF50;\n",
       "            color: white;\n",
       "            padding: 6px;\n",
       "            font-size: 13px;\n",
       "        }\n",
       "        tr:nth-child(even) {\n",
       "            background-color: #f2f2f2;\n",
       "        }\n",
       "        td {\n",
       "            padding: 6px;\n",
       "            font-size: 11px; /* Smaller text inside cells */\n",
       "            max-width: 200px; /* Set max width for each cell */\n",
       "            word-wrap: break-word; /* Ensure text wraps properly */\n",
       "            white-space: normal; /* Allow text to wrap */\n",
       "            overflow-wrap: break-word; /* Ensure breaking works */\n",
       "        }\n",
       "        h2 {\n",
       "            color: #4CAF50; /* Green title */\n",
       "            font-size: 18px; /* Smaller title */\n",
       "        }\n",
       "    </style>\n",
       "    <h2>EXERCISE #1</h2>\n",
       "    <table>\n",
       "<thead>\n",
       "<tr><th style=\"text-align: right;\">  #</th><th>Task           </th><th>Input      </th><th>Result                  </th><th>Expected                </th><th>Status  </th></tr>\n",
       "</thead>\n",
       "<tbody>\n",
       "<tr><td style=\"text-align: right;\">  1</td><td>char_count     </td><td>           </td><td>{}                      </td><td>{}                      </td><td><span style=\"color:green;\n",
       "font-\n",
       "weight:bold;\">PASS</span>         </td></tr>\n",
       "<tr><td style=\"text-align: right;\">  2</td><td>char_count     </td><td>test123    </td><td>{'t': 2, 'e': 1, 's': 1,\n",
       "'1': 1, '2': 1, '3': 1}                         </td><td>{'1': 1, 't': 2, '3': 1,\n",
       "'s': 1, '2': 1, 'e': 1}                         </td><td><span style=\"color:green;\n",
       "font-\n",
       "weight:bold;\">PASS</span>         </td></tr>\n",
       "<tr><td style=\"text-align: right;\">  3</td><td>char_count     </td><td>!@#        </td><td>{'!': 1, '@': 1, '#': 1}</td><td>{'!': 1, '@': 1, '#': 1}</td><td><span style=\"color:green;\n",
       "font-\n",
       "weight:bold;\">PASS</span>         </td></tr>\n",
       "<tr><td style=\"text-align: right;\">  4</td><td>char_count     </td><td>1122334455 </td><td>{'1': 2, '2': 2, '3': 2,\n",
       "'4': 2, '5': 2}                         </td><td>{'1': 2, '5': 2, '4': 2,\n",
       "'3': 2, '2': 2}                         </td><td><span style=\"color:green;\n",
       "font-\n",
       "weight:bold;\">PASS</span>         </td></tr>\n",
       "<tr><td style=\"text-align: right;\">  5</td><td>char_count     </td><td>hello world</td><td>{'h': 1, 'e': 1, 'l': 3,\n",
       "'o': 2, ' ': 1, 'w': 1,\n",
       "'r': 1, 'd': 1}                         </td><td>{'h': 1, 'l': 3, 'r': 1,\n",
       "'d': 1, 'w': 1, ' ': 1,\n",
       "'e': 1, 'o': 2}                         </td><td><span style=\"color:green;\n",
       "font-\n",
       "weight:bold;\">PASS</span>         </td></tr>\n",
       "<tr><td style=\"text-align: right;\">  6</td><td>char_count     </td><td>Python3.9  </td><td>{'P': 1, 'y': 1, 't': 1,\n",
       "'h': 1, 'o': 1, 'n': 1,\n",
       "'3': 1, '.': 1, '9': 1}                         </td><td>{'t': 1, '3': 1, 'h': 1,\n",
       "'y': 1, '9': 1, 'n': 1,\n",
       "'P': 1, '.': 1, 'o': 1}                         </td><td><span style=\"color:green;\n",
       "font-\n",
       "weight:bold;\">PASS</span>         </td></tr>\n",
       "<tr><td style=\"text-align: right;\">  7</td><td>char_count     </td><td>ABCabc123  </td><td>{'A': 1, 'B': 1, 'C': 1,\n",
       "'a': 1, 'b': 1, 'c': 1,\n",
       "'1': 1, '2': 1, '3': 1}                         </td><td>{'c': 1, 'A': 1, '1': 1,\n",
       "'3': 1, 'B': 1, 'a': 1,\n",
       "'C': 1, '2': 1, 'b': 1}                         </td><td><span style=\"color:green;\n",
       "font-\n",
       "weight:bold;\">PASS</span>         </td></tr>\n",
       "<tr><td style=\"text-align: right;\">  8</td><td>generate_primes</td><td>0          </td><td>[]                      </td><td>[]                      </td><td><span style=\"color:green;\n",
       "font-\n",
       "weight:bold;\">PASS</span>         </td></tr>\n",
       "<tr><td style=\"text-align: right;\">  9</td><td>generate_primes</td><td>5          </td><td>[2, 3, 5]               </td><td>[2, 3, 5]               </td><td><span style=\"color:green;\n",
       "font-\n",
       "weight:bold;\">PASS</span>         </td></tr>\n",
       "<tr><td style=\"text-align: right;\"> 10</td><td>generate_primes</td><td>75         </td><td>[2, 3, 5, 7, 11, 13, 17,\n",
       "19, 23, 29, 31, 37, 41,\n",
       "43, 47, 53, 59, 61, 67,\n",
       "71, 73]                         </td><td>[2, 3, 5, 7, 11, 13, 17,\n",
       "19, 23, 29, 31, 37, 41,\n",
       "43, 47, 53, 59, 61, 67,\n",
       "71, 73]                         </td><td><span style=\"color:green;\n",
       "font-\n",
       "weight:bold;\">PASS</span>         </td></tr>\n",
       "<tr><td style=\"text-align: right;\"> 11</td><td>generate_primes</td><td>7          </td><td>[2, 3, 5, 7]            </td><td>[2, 3, 5, 7]            </td><td><span style=\"color:green;\n",
       "font-\n",
       "weight:bold;\">PASS</span>         </td></tr>\n",
       "<tr><td style=\"text-align: right;\"> 12</td><td>generate_primes</td><td>15         </td><td>[2, 3, 5, 7, 11, 13]    </td><td>[2, 3, 5, 7, 11, 13]    </td><td><span style=\"color:green;\n",
       "font-\n",
       "weight:bold;\">PASS</span>         </td></tr>\n",
       "<tr><td style=\"text-align: right;\"> 13</td><td>generate_primes</td><td>50         </td><td>[2, 3, 5, 7, 11, 13, 17,\n",
       "19, 23, 29, 31, 37, 41,\n",
       "43, 47]                         </td><td>[2, 3, 5, 7, 11, 13, 17,\n",
       "19, 23, 29, 31, 37, 41,\n",
       "43, 47]                         </td><td><span style=\"color:green;\n",
       "font-\n",
       "weight:bold;\">PASS</span>         </td></tr>\n",
       "<tr><td style=\"text-align: right;\"> 14</td><td>generate_primes</td><td>100        </td><td>[2, 3, 5, 7, 11, 13, 17,\n",
       "19, 23, 29, 31, 37, 41,\n",
       "43, 47, 53, 59, 61, 67,\n",
       "71, 73, 79, 83, 89, 97]                         </td><td>[2, 3, 5, 7, 11, 13, 17,\n",
       "19, 23, 29, 31, 37, 41,\n",
       "43, 47, 53, 59, 61, 67,\n",
       "71, 73, 79, 83, 89, 97]                         </td><td><span style=\"color:green;\n",
       "font-\n",
       "weight:bold;\">PASS</span>         </td></tr>\n",
       "<tr><td style=\"text-align: right;\"> 15</td><td>is_prime       </td><td>0          </td><td>False                   </td><td>False                   </td><td><span style=\"color:green;\n",
       "font-\n",
       "weight:bold;\">PASS</span>         </td></tr>\n",
       "<tr><td style=\"text-align: right;\"> 16</td><td>is_prime       </td><td>1          </td><td>False                   </td><td>False                   </td><td><span style=\"color:green;\n",
       "font-\n",
       "weight:bold;\">PASS</span>         </td></tr>\n",
       "<tr><td style=\"text-align: right;\"> 17</td><td>is_prime       </td><td>2          </td><td>True                    </td><td>True                    </td><td><span style=\"color:green;\n",
       "font-\n",
       "weight:bold;\">PASS</span>         </td></tr>\n",
       "<tr><td style=\"text-align: right;\"> 18</td><td>is_prime       </td><td>3          </td><td>True                    </td><td>True                    </td><td><span style=\"color:green;\n",
       "font-\n",
       "weight:bold;\">PASS</span>         </td></tr>\n",
       "<tr><td style=\"text-align: right;\"> 19</td><td>is_prime       </td><td>4          </td><td>False                   </td><td>False                   </td><td><span style=\"color:green;\n",
       "font-\n",
       "weight:bold;\">PASS</span>         </td></tr>\n",
       "<tr><td style=\"text-align: right;\"> 20</td><td>is_prime       </td><td>5          </td><td>True                    </td><td>True                    </td><td><span style=\"color:green;\n",
       "font-\n",
       "weight:bold;\">PASS</span>         </td></tr>\n",
       "<tr><td style=\"text-align: right;\"> 21</td><td>is_prime       </td><td>29         </td><td>True                    </td><td>True                    </td><td><span style=\"color:green;\n",
       "font-\n",
       "weight:bold;\">PASS</span>         </td></tr>\n",
       "</tbody>\n",
       "</table>\n",
       "    "
      ],
      "text/plain": [
       "<IPython.core.display.HTML object>"
      ]
     },
     "metadata": {},
     "output_type": "display_data"
    },
    {
     "data": {
      "text/html": [
       "\n",
       "    <h3 style=\"color: green; font-size: 13px;\">Exercise #1 Score: 5.0/5.0</h3>\n",
       "    "
      ],
      "text/plain": [
       "<IPython.core.display.HTML object>"
      ]
     },
     "metadata": {},
     "output_type": "display_data"
    },
    {
     "data": {
      "text/plain": [
       "5.0"
      ]
     },

     "execution_count": 57,

     "metadata": {},
     "output_type": "execute_result"
    }
   ],
   "source": [
    "from sergioamar.unisabana.I import test_exercise_1,test_exercise_2,test_exercise_3,test_exercise_4,test_exercise_5\n",
    "\n",
    "test_exercise_1(\n",
    "    char_count=char_count,\n",
    "    generate_primes=generate_primes,\n",
    "    is_prime=is_Prime\n",
    ")"
   ]
  },
  {
   "cell_type": "markdown",
   "metadata": {},
   "source": [
    "## Exercise #2\n",
    "\n",
    "*Problems to understand and tackle the basics of mathematical opera-\n",
    "tions in Python*"
   ]
  },
  {
   "cell_type": "markdown",
   "metadata": {},
   "source": [
    "1. Write a function ***factorial(n: int) -> int*** that calculates the factorial of a given\n",
    "number n iteratively. (5 points)"
   ]
  },
  {
   "cell_type": "code",

   "execution_count": 25,
 
   "metadata": {},
   "outputs": [],
   "source": [
    "# Function that calculate a factorial \n",
    "def factorial(n):\n",
    "    # Verification if the number is 0 or 1 because its factorial is 1\n",
    "    if n == 0 or n == 1:\n",
    "        return 1\n",
    "    # Otherwise, other verifications with a recursive call\n",
    "    else:\n",
    "        # Multiplies n by factorial of n-1\n",
    "        return n*factorial(n-1)"
   ]
  },
  {
   "cell_type": "markdown",
   "metadata": {},
   "source": [
    "2. Write a function ***fibonacci(n: int) -> list[int]*** that generates a list containing the\n",
    "first n numbers in the Fibonacci sequence. (5 points)"
   ]
  },
  {
   "cell_type": "code",

   "execution_count": 26,

   "metadata": {},
   "outputs": [],
   "source": [
    "def fibonacci(n: int):\n",
    "    numbers = []  # Initialize an empty list to store Fibonacci numbers\n",
    "    a, b = 0, 1   # Initialize the first two Fibonacci numbers\n",
    "\n",
    "    # Loop 'n' times to generate Fibonacci numbers\n",
    "    for i in range(n):\n",
    "        numbers.append(a)  # Append the current value of 'a' to the list\n",
    "        a, b = b, a + b    # Update 'a' and 'b' to the next Fibonacci numbers\n",
    "\n",
    "    return numbers  # Return the list containing Fibonacci sequence\n",
    "       "
   ]
  },
  {
   "cell_type": "markdown",
   "metadata": {},
   "source": [
    "3. Write a function ***sum_naturals(n: int) -> int*** that calculates the sum of the first n\n",
    "natural numbers. (5 points)"
   ]
  },
  {
   "cell_type": "code",

   "execution_count": 58,

   "metadata": {},
   "outputs": [],
   "source": [
    "# Function that add first natural numbers\n",
    "def sum_naturals(n: int):\n",
    "        # Check if n is less than 1 becasue 0 and negative numbers are NOT natural\n",
    "        if n < 1: \n",
    "            # Are NOT natural numbes\n",
    "            return False\n",
    "        else: \n",
    "            # Use of the formula that calculates the sum of the first n natural numbers\n",
    "            return n * (n + 1) // 2"
   ]
  },
  {
   "cell_type": "markdown",
   "metadata": {},
   "source": [
    "### tests"
   ]
  },
  {
   "cell_type": "code",

   "execution_count": 59,

   "metadata": {},
   "outputs": [
    {
     "data": {
      "text/html": [
       "\n",
       "    <style>\n",
       "        table {\n",
       "            width: 100%;\n",
       "            border-collapse: collapse;\n",
       "            margin: 20px 0;\n",
       "            font-size: 14px; /* Smaller text */\n",
       "            text-align: left;\n",
       "        }\n",
       "        th {\n",
       "            background-color: #4CAF50;\n",
       "            color: white;\n",
       "            padding: 6px;\n",
       "            font-size: 13px;\n",
       "        }\n",
       "        tr:nth-child(even) {\n",
       "            background-color: #f2f2f2;\n",
       "        }\n",
       "        td {\n",
       "            padding: 6px;\n",
       "            font-size: 11px; /* Smaller text inside cells */\n",
       "            max-width: 200px; /* Set max width for each cell */\n",
       "            word-wrap: break-word; /* Ensure text wraps properly */\n",
       "            white-space: normal; /* Allow text to wrap */\n",
       "            overflow-wrap: break-word; /* Ensure breaking works */\n",
       "        }\n",
       "        h2 {\n",
       "            color: #4CAF50; /* Green title */\n",
       "            font-size: 18px; /* Smaller title */\n",
       "        }\n",
       "    </style>\n",
       "    <h2>EXERCISE #2</h2>\n",
       "    <table>\n",
       "<thead>\n",
       "<tr><th style=\"text-align: right;\">  #</th><th>Task        </th><th style=\"text-align: right;\">  Input</th><th>Result         </th><th>Expected       </th><th>Status  </th></tr>\n",
       "</thead>\n",
       "<tbody>\n",
       "<tr><td style=\"text-align: right;\">  1</td><td>factorial   </td><td style=\"text-align: right;\">      0</td><td>1              </td><td>1              </td><td><span style=\"color:green;\n",
       "font-\n",
       "weight:bold;\">PASS</span>         </td></tr>\n",
       "<tr><td style=\"text-align: right;\">  2</td><td>factorial   </td><td style=\"text-align: right;\">      1</td><td>1              </td><td>1              </td><td><span style=\"color:green;\n",
       "font-\n",
       "weight:bold;\">PASS</span>         </td></tr>\n",
       "<tr><td style=\"text-align: right;\">  3</td><td>factorial   </td><td style=\"text-align: right;\">      5</td><td>120            </td><td>120            </td><td><span style=\"color:green;\n",
       "font-\n",
       "weight:bold;\">PASS</span>         </td></tr>\n",
       "<tr><td style=\"text-align: right;\">  4</td><td>factorial   </td><td style=\"text-align: right;\">      7</td><td>5040           </td><td>5040           </td><td><span style=\"color:green;\n",
       "font-\n",
       "weight:bold;\">PASS</span>         </td></tr>\n",
       "<tr><td style=\"text-align: right;\">  5</td><td>factorial   </td><td style=\"text-align: right;\">      9</td><td>362880         </td><td>362880         </td><td><span style=\"color:green;\n",
       "font-\n",
       "weight:bold;\">PASS</span>         </td></tr>\n",
       "<tr><td style=\"text-align: right;\">  6</td><td>factorial   </td><td style=\"text-align: right;\">     10</td><td>3628800        </td><td>3628800        </td><td><span style=\"color:green;\n",
       "font-\n",
       "weight:bold;\">PASS</span>         </td></tr>\n",
       "<tr><td style=\"text-align: right;\">  7</td><td>factorial   </td><td style=\"text-align: right;\">     15</td><td>1307674368000  </td><td>1307674368000  </td><td><span style=\"color:green;\n",
       "font-\n",
       "weight:bold;\">PASS</span>         </td></tr>\n",
       "<tr><td style=\"text-align: right;\">  8</td><td>fibonacci   </td><td style=\"text-align: right;\">      0</td><td>[]             </td><td>[]             </td><td><span style=\"color:green;\n",
       "font-\n",
       "weight:bold;\">PASS</span>         </td></tr>\n",
       "<tr><td style=\"text-align: right;\">  9</td><td>fibonacci   </td><td style=\"text-align: right;\">      1</td><td>[0]            </td><td>[0]            </td><td><span style=\"color:green;\n",
       "font-\n",
       "weight:bold;\">PASS</span>         </td></tr>\n",
       "<tr><td style=\"text-align: right;\"> 10</td><td>fibonacci   </td><td style=\"text-align: right;\">      2</td><td>[0, 1]         </td><td>[0, 1]         </td><td><span style=\"color:green;\n",
       "font-\n",
       "weight:bold;\">PASS</span>         </td></tr>\n",
       "<tr><td style=\"text-align: right;\"> 11</td><td>fibonacci   </td><td style=\"text-align: right;\">      3</td><td>[0, 1, 1]      </td><td>[0, 1, 1]      </td><td><span style=\"color:green;\n",
       "font-\n",
       "weight:bold;\">PASS</span>         </td></tr>\n",
       "<tr><td style=\"text-align: right;\"> 12</td><td>fibonacci   </td><td style=\"text-align: right;\">      5</td><td>[0, 1, 1, 2, 3]</td><td>[0, 1, 1, 2, 3]</td><td><span style=\"color:green;\n",
       "font-\n",
       "weight:bold;\">PASS</span>         </td></tr>\n",
       "<tr><td style=\"text-align: right;\"> 13</td><td>fibonacci   </td><td style=\"text-align: right;\">     10</td><td>[0, 1, 1, 2, 3, 5, 8, 13,\n",
       "21, 34]                </td><td>[0, 1, 1, 2, 3, 5, 8, 13,\n",
       "21, 34]                </td><td><span style=\"color:green;\n",
       "font-\n",
       "weight:bold;\">PASS</span>         </td></tr>\n",
       "<tr><td style=\"text-align: right;\"> 14</td><td>fibonacci   </td><td style=\"text-align: right;\">     20</td><td>[0, 1, 1, 2, 3, 5, 8, 13,\n",
       "21, 34, 55, 89, 144, 233,\n",
       "377, 610, 987, 1597,\n",
       "2584, 4181]                </td><td>[0, 1, 1, 2, 3, 5, 8, 13,\n",
       "21, 34, 55, 89, 144, 233,\n",
       "377, 610, 987, 1597,\n",
       "2584, 4181]                </td><td><span style=\"color:green;\n",
       "font-\n",
       "weight:bold;\">PASS</span>         </td></tr>\n",
       "<tr><td style=\"text-align: right;\"> 15</td><td>sum_naturals</td><td style=\"text-align: right;\">      0</td><td>False          </td><td>0              </td><td><span style=\"color:green;\n",
       "font-\n",
       "weight:bold;\">PASS</span>         </td></tr>\n",
       "<tr><td style=\"text-align: right;\"> 16</td><td>sum_naturals</td><td style=\"text-align: right;\">      1</td><td>1              </td><td>1              </td><td><span style=\"color:green;\n",
       "font-\n",
       "weight:bold;\">PASS</span>         </td></tr>\n",
       "<tr><td style=\"text-align: right;\"> 17</td><td>sum_naturals</td><td style=\"text-align: right;\">      5</td><td>15             </td><td>15             </td><td><span style=\"color:green;\n",
       "font-\n",
       "weight:bold;\">PASS</span>         </td></tr>\n",
       "<tr><td style=\"text-align: right;\"> 18</td><td>sum_naturals</td><td style=\"text-align: right;\">     10</td><td>55             </td><td>55             </td><td><span style=\"color:green;\n",
       "font-\n",
       "weight:bold;\">PASS</span>         </td></tr>\n",
       "<tr><td style=\"text-align: right;\"> 19</td><td>sum_naturals</td><td style=\"text-align: right;\">     50</td><td>1275           </td><td>1275           </td><td><span style=\"color:green;\n",
       "font-\n",
       "weight:bold;\">PASS</span>         </td></tr>\n",
       "<tr><td style=\"text-align: right;\"> 20</td><td>sum_naturals</td><td style=\"text-align: right;\">    100</td><td>5050           </td><td>5050           </td><td><span style=\"color:green;\n",
       "font-\n",
       "weight:bold;\">PASS</span>         </td></tr>\n",
       "<tr><td style=\"text-align: right;\"> 21</td><td>sum_naturals</td><td style=\"text-align: right;\">    500</td><td>125250         </td><td>125250         </td><td><span style=\"color:green;\n",
       "font-\n",
       "weight:bold;\">PASS</span>         </td></tr>\n",
       "</tbody>\n",
       "</table>\n",
       "    "
      ],
      "text/plain": [
       "<IPython.core.display.HTML object>"
      ]
     },
     "metadata": {},
     "output_type": "display_data"
    },
    {
     "data": {
      "text/html": [
       "\n",
       "    <h3 style=\"color: green; font-size: 13px;\">Exercise #2 Score: 5.0/5.0</h3>\n",
       "    "
      ],
      "text/plain": [
       "<IPython.core.display.HTML object>"
      ]
     },
     "metadata": {},
     "output_type": "display_data"
    },
    {
     "data": {
      "text/plain": [
       "5.0"
      ]
     },

     "execution_count": 59,

     "metadata": {},
     "output_type": "execute_result"
    }
   ],
   "source": [
    "test_exercise_2(\n",
    "    factorial=factorial,\n",
    "    fibonacci=fibonacci,\n",
    "    sum_naturals=sum_naturals\n",
    ")"
   ]
  },
  {
   "cell_type": "markdown",
   "metadata": {},
   "source": [
    "## Exercise #3\n",
    "\n",
    "*Problems to understand and tackle the basics of statistical operations\n",
    "in Python*"
   ]
  },
  {
   "cell_type": "markdown",
   "metadata": {},
   "source": [
    "1. Write a function ***calculate_stats(data: list[float]) -> tuple[float, float, float]***\n",
    "that calculates the mean, median, and mode of a given list of numbers. (5 points)"
   ]
  },
  {
   "cell_type": "code",

   "execution_count": 29,

   "metadata": {},
   "outputs": [],
   "source": [
    "def calculate_stats(data:list[float]):\n",
    "    \n",
    "    #Mean Calculation\n",
    "    mean = sum(data) / len(data)\n",
    "    \n",
    "    #Median Calculation\n",
    "    sorted_list = sorted(data)\n",
    "    n = len(data)\n",
    "    if n % 2 == 1:  # Odd length -> middle value\n",
    "        median = sorted_list[n // 2]\n",
    "    else:  # Even length -> average of two middle values\n",
    "        median= (sorted_list[n // 2 - 1] + sorted_list[n // 2]) / 2\n",
    "    \n",
    "    #Mode Calculation\n",
    "    frequency= {} \n",
    "    for i in data:\n",
    "        frequency[i] = frequency.get(i, 0) + 1 \n",
    "    maxf = max(frequency.values())\n",
    "    mode_candidates = [key for key, value in frequency.items() if value == maxf] \n",
    "        \n",
    "    mode= mode_candidates[0] if len(mode_candidates) == 1 else list(frequency.keys())[0]\n",
    "        \n",
    "    \n",
    "    return mean,median,mode\n",
    "\n",
    "\n",
    "        "
   ]
  },
  {
   "cell_type": "markdown",
   "metadata": {},
   "source": [
    "2. Write a function ***variance_and_std(data: list[float]) -> tuple[float, float]*** that\n",
    "calculates the variance and standard deviation of a dataset. (5 points)"
   ]
  },
  {
   "cell_type": "code",

   "execution_count": 60,
   "metadata": {},
   "outputs": [],
   "source": [
    "# Function that calculates the variance and standard deviation of a dataset\n",
    "def variance_and_std(data: list[float]):\n",
    "    # If there is no data to calculate return 0 for both values\n",
    "    if not data: \n",
    "        return (0.0, 0.0)\n",
    "    \n",
    "    # Number of elements in dataset \n",
    "    num = len(data)\n",
    "\n",
    "    # Calculation of the mean of the dataset\n",
    "    mean = sum(data) / num\n",
    "\n",
    "    # Calculation of the variance using the formula\n",
    "    variance =  sum((x - mean)** 2 for x in data) / num \n",
    "    # Calculation of the standard deviation, the square root of the variance\n",
    "    std = variance ** 0.5\n",
    "\n",
    "    # Return the values that come from the dataset\n",
    "    return variance, std\n",
    "\n"
   ]
  },
  {
   "cell_type": "markdown",
   "metadata": {},
   "source": [
    "3. Write a function ***weighted_mean(data: list[float], weights: list[float]) -> float***\n",
    "that calculates the weighted mean of a dataset data given a corresponding list of weights\n",
    "weights. Ensure both lists have the same length. (5 points)"
   ]
  },
  {
   "cell_type": "code",

   "execution_count": 507,
   "metadata": {},
   "outputs": [],
   "source": [
    "def weighted_mean(data: list[float], weights: list[float]):\n",
    "    # Ensure both lists have the same length\n",
    "    if len(data) != len(weights):\n",
    "        raise ValueError(\"The lists' sizes have to be the same\")\n",
    "\n",
    "    # Initialize variables to store the weighted sum and total weight\n",
    "    weighted_sum = 0  \n",
    "    total_weight = 0  \n",
    "\n",
    "    # Iterate through the data list using an index\n",
    "    for i in range(len(data)):\n",
    "        weighted_sum += data[i] * weights[i]  # Multiply each value by its weight and accumulate\n",
    "        total_weight += weights[i]  # Accumulate the total weight\n",
    "\n",
    "    # Prevent division by zero by ensuring the total weight is not zero\n",
    "    if total_weight == 0:\n",
    "        raise ValueError(\"The sum of the weights cannot be zero\")\n",
    "\n",
    "    return weighted_sum / total_weight"
   ]
  },
  {
   "cell_type": "markdown",
   "metadata": {},
   "source": [
    "### tests"
   ]
  },
  {
   "cell_type": "code",

   "execution_count": 32,

   "metadata": {},
   "outputs": [
    {
     "data": {
      "text/html": [
       "\n",
       "    <style>\n",
       "        table {\n",
       "            width: 100%;\n",
       "            border-collapse: collapse;\n",
       "            margin: 20px 0;\n",
       "            font-size: 14px; /* Smaller text */\n",
       "            text-align: left;\n",
       "        }\n",
       "        th {\n",
       "            background-color: #4CAF50;\n",
       "            color: white;\n",
       "            padding: 6px;\n",
       "            font-size: 13px;\n",
       "        }\n",
       "        tr:nth-child(even) {\n",
       "            background-color: #f2f2f2;\n",
       "        }\n",
       "        td {\n",
       "            padding: 6px;\n",
       "            font-size: 11px; /* Smaller text inside cells */\n",
       "            max-width: 200px; /* Set max width for each cell */\n",
       "            word-wrap: break-word; /* Ensure text wraps properly */\n",
       "            white-space: normal; /* Allow text to wrap */\n",
       "            overflow-wrap: break-word; /* Ensure breaking works */\n",
       "        }\n",
       "        h2 {\n",
       "            color: #4CAF50; /* Green title */\n",
       "            font-size: 18px; /* Smaller title */\n",
       "        }\n",
       "    </style>\n",
       "    <h2>EXERCISE #3</h2>\n",
       "    <table>\n",
       "<thead>\n",

       "<tr><th style=\"text-align: right;\">  #</th><th>Task            </th><th>Input                    </th><th>Result                 </th><th>Expected               </th><th>Status  </th></tr>\n",
       "</thead>\n",
       "<tbody>\n",
       "<tr><td style=\"text-align: right;\">  1</td><td>calculate_stats </td><td>[5]                      </td><td>-                      </td><td>(5.0, 5, 5)            </td><td><span style=\"color:red;\n",
       "font-\n",
       "weight:bold;\">FAIL</span>         </td></tr>\n",
       "<tr><td style=\"text-align: right;\">  2</td><td>calculate_stats </td><td>[2, 4, 6, 8]             </td><td>-                      </td><td>(5.0, 5.0, 2)          </td><td><span style=\"color:red;\n",
       "font-\n",
       "weight:bold;\">FAIL</span>         </td></tr>\n",
       "<tr><td style=\"text-align: right;\">  3</td><td>calculate_stats </td><td>[1.5, 2.5, 2.5]          </td><td>-                      </td><td>(2.1666666666666665, 2.5,\n",
       "2.5)                        </td><td><span style=\"color:red;\n",
       "font-\n",
       "weight:bold;\">FAIL</span>         </td></tr>\n",
       "<tr><td style=\"text-align: right;\">  4</td><td>calculate_stats </td><td>[10, 20, 10, 30]         </td><td>-                      </td><td>(17.5, 15.0, 10)       </td><td><span style=\"color:red;\n",
       "font-\n",
       "weight:bold;\">FAIL</span>         </td></tr>\n",
       "<tr><td style=\"text-align: right;\">  5</td><td>calculate_stats </td><td>[100, 100, 100]          </td><td>-                      </td><td>(100.0, 100, 100)      </td><td><span style=\"color:red;\n",
       "font-\n",
       "weight:bold;\">FAIL</span>         </td></tr>\n",
       "<tr><td style=\"text-align: right;\">  6</td><td>calculate_stats </td><td>[1, 2, 3]                </td><td>-                      </td><td>(2.0, 2, 1)            </td><td><span style=\"color:red;\n",
       "font-\n",
       "weight:bold;\">FAIL</span>         </td></tr>\n",
       "<tr><td style=\"text-align: right;\">  7</td><td>calculate_stats </td><td>[7, 8, 9]                </td><td>-                      </td><td>(8.0, 8, 7)            </td><td><span style=\"color:red;\n",
       "font-\n",
       "weight:bold;\">FAIL</span>         </td></tr>\n",
       "<tr><td style=\"text-align: right;\">  8</td><td>variance_and_std</td><td>[1, 2, 3]                </td><td>(0.6666666666666666,\n",
       "0.816496580927726)                        </td><td>(0.6666666666666666,\n",
       "0.816496580927726)                        </td><td><span style=\"color:green;\n",
       "font-\n",
       "weight:bold;\">PASS</span>         </td></tr>\n",
       "<tr><td style=\"text-align: right;\">  9</td><td>variance_and_std</td><td>[1, 1, 1]                </td><td>(0.0, 0.0)             </td><td>(0.0, 0.0)             </td><td><span style=\"color:green;\n",
       "font-\n",
       "weight:bold;\">PASS</span>         </td></tr>\n",
       "<tr><td style=\"text-align: right;\"> 10</td><td>variance_and_std</td><td>[2, 4, 6, 8]             </td><td>(5.0, 2.23606797749979)</td><td>(5.0, 2.23606797749979)</td><td><span style=\"color:green;\n",
       "font-\n",
       "weight:bold;\">PASS</span>         </td></tr>\n",
       "<tr><td style=\"text-align: right;\"> 11</td><td>variance_and_std</td><td>[10, 20, 30]             </td><td>(66.66666666666667,\n",
       "8.16496580927726)                        </td><td>(66.66666666666667,\n",
       "8.16496580927726)                        </td><td><span style=\"color:green;\n",
       "font-\n",
       "weight:bold;\">PASS</span>         </td></tr>\n",
       "<tr><td style=\"text-align: right;\"> 12</td><td>variance_and_std</td><td>[100, 200, 300]          </td><td>(6666.666666666667,\n",
       "81.64965809277261)                        </td><td>(6666.666666666667,\n",
       "81.64965809277261)                        </td><td><span style=\"color:green;\n",
       "font-\n",
       "weight:bold;\">PASS</span>         </td></tr>\n",
       "<tr><td style=\"text-align: right;\"> 13</td><td>variance_and_std</td><td>[1.5, 3.5, 5.5]          </td><td>(2.6666666666666665,\n",
       "1.632993161855452)                        </td><td>(2.6666666666666665,\n",
       "1.632993161855452)                        </td><td><span style=\"color:green;\n",
       "font-\n",
       "weight:bold;\">PASS</span>         </td></tr>\n",
       "<tr><td style=\"text-align: right;\"> 14</td><td>variance_and_std</td><td>[0, 0, 0]                </td><td>(0.0, 0.0)             </td><td>(0.0, 0.0)             </td><td><span style=\"color:green;\n",
       "font-\n",
       "weight:bold;\">PASS</span>         </td></tr>\n",
       "<tr><td style=\"text-align: right;\"> 15</td><td>weighted_mean   </td><td>([1, 2, 3], [1, 1, 1])   </td><td>2.0                    </td><td>2.0                    </td><td><span style=\"color:green;\n",
       "font-\n",
       "weight:bold;\">PASS</span>         </td></tr>\n",
       "<tr><td style=\"text-align: right;\"> 16</td><td>weighted_mean   </td><td>([1, 2, 3], [0.1, 0.3,\n",
       "0.6])                          </td><td>2.5                    </td><td>2.5                    </td><td><span style=\"color:green;\n",
       "font-\n",
       "weight:bold;\">PASS</span>         </td></tr>\n",
       "<tr><td style=\"text-align: right;\"> 17</td><td>weighted_mean   </td><td>([2, 4, 6], [0.5, 0.25,\n",
       "0.25])                          </td><td>3.5                    </td><td>3.5                    </td><td><span style=\"color:green;\n",
       "font-\n",
       "weight:bold;\">PASS</span>         </td></tr>\n",
       "<tr><td style=\"text-align: right;\"> 18</td><td>weighted_mean   </td><td>([10, 20, 30], [1, 1, 1])</td><td>20.0                   </td><td>20.0                   </td><td><span style=\"color:green;\n",
       "font-\n",
       "weight:bold;\">PASS</span>         </td></tr>\n",
       "<tr><td style=\"text-align: right;\"> 19</td><td>weighted_mean   </td><td>([1], [1])               </td><td>1.0                    </td><td>1.0                    </td><td><span style=\"color:green;\n",
       "font-\n",
       "weight:bold;\">PASS</span>         </td></tr>\n",
       "<tr><td style=\"text-align: right;\"> 20</td><td>weighted_mean   </td><td>([1, 2], [0.1, 0.9])     </td><td>1.9000000000000001     </td><td>1.9000000000000001     </td><td><span style=\"color:green;\n",
       "font-\n",
       "weight:bold;\">PASS</span>         </td></tr>\n",
       "<tr><td style=\"text-align: right;\"> 21</td><td>weighted_mean   </td><td>([1, 100], [1, 10])      </td><td>91.0                   </td><td>91.0                   </td><td><span style=\"color:green;\n",

       "font-\n",
       "weight:bold;\">PASS</span>         </td></tr>\n",
       "</tbody>\n",
       "</table>\n",
       "    "
      ],
      "text/plain": [
       "<IPython.core.display.HTML object>"
      ]
     },
     "metadata": {},
     "output_type": "display_data"
    },
    {
     "data": {
      "text/html": [
       "\n",
       "    <h3 style=\"color: orange; font-size: 13px;\">Exercise #3 Score: 3.33/5.0</h3>\n",
       "    "
      ],
      "text/plain": [
       "<IPython.core.display.HTML object>"
      ]
     },
     "metadata": {},
     "output_type": "display_data"
    },
    {
     "data": {
      "text/plain": [
       "3.33"
      ]
     },
     "execution_count": 32,

     "metadata": {},
     "output_type": "execute_result"
    }
   ],
   "source": [
    "test_exercise_3(\n",
    "    calculate_stats=calculate_stats,\n",

    "    variance_and_std=variance_and_std,\n",
    "    weighted_mean=weighted_mean\n",
    ")\n"

   ]
  },
  {
   "cell_type": "markdown",
   "metadata": {},
   "source": [
    "## Exercise #4\n",
    "\n",
    "*Analytical problems to develop problem-solving and logical reasoning\n",
    "in Python*"
   ]
  },
  {
   "cell_type": "markdown",
   "metadata": {},
   "source": [
    "1. Write a function ***is_palindrome(s: str) -> bool*** that checks if a given string s is a\n",
    "palindrome. Return True if it is, False otherwise. (5 points)"
   ]
  },
  {
   "cell_type": "code",

   "execution_count": 61,
   "metadata": {},
   "outputs": [],
   "source": [
    "# Function that checks if a given string s is a palindrom\n",
    "def is_palindorme(s:str):\n",
    "    # Making that s is able for reading, taking out all the characters that are the same but are not recognized as the same\n",
    "    s = s.lower().replace(\"\", \"\").replace(\",\", \"\").replace(\"á\", \"a\").replace(\"é\", \"e\").replace(\"í\",\"i\").replace(\"ó\", \"o\").replace(\"ú\", \"u\")\n",
    "    #Check if the string is the same forwards and backwards\n",
    "    return s == s[::-1]\n"

   ]
  },
  {
   "cell_type": "markdown",
   "metadata": {},
   "source": [
    "2. Write a function ***reverse_words(sentence: str) -> str*** that reverses the words in a\n",
    "sentence while preserving their order. (5 points )"
   ]
  },
  {
   "cell_type": "code",
   "execution_count": 510,
   "metadata": {},
   "outputs": [],
   "source": [
    "def reverse_words(sentence:str):\n",
    "    # Split the sentence into a list of words (removing extra spaces)\n",
    "    sentenceSplit = sentence.split()\n",
    "    # Reverse the order of the words in the list\n",
    "    reversed_sentence = sentenceSplit[::-1]\n",
    "    # Join the words back into a string with spaces in between\n",
    "    return \" \".join(reversed_sentence)"
   ]
  },
  {
   "cell_type": "code",
   "execution_count": 34,
   "metadata": {},
   "outputs": [],
   "source": []
  },
  {
   "cell_type": "markdown",
   "metadata": {},
   "source": [
    "3. Write a function ***find_longest_word(words: list[str]) -> str*** that returns the longest\n",
    "word from a list of strings. If there is a tie, return the first one. (5 points)"
   ]
  },
  {
   "cell_type": "code",

   "execution_count": 62,
   "metadata": {},
   "outputs": [],
   "source": [
    "# Function that returns the longest word from a list of strings\n",
    "def find_longest_word(words: list[str]):\n",
    "    # If there are no words in the list, return an empty string\n",
    "    if not words: \n",
    "        return \"\"\n",
    "    # Use max function in order to find de longest word with based on its length\n",
    "    return max(words, key=len)"

   ]
  },
  {
   "cell_type": "code",

   "execution_count": 44,

   "metadata": {},
   "outputs": [
    {
     "data": {
      "text/html": [
       "\n",
       "    <style>\n",
       "        table {\n",
       "            width: 100%;\n",
       "            border-collapse: collapse;\n",
       "            margin: 20px 0;\n",
       "            font-size: 14px; /* Smaller text */\n",
       "            text-align: left;\n",
       "        }\n",
       "        th {\n",
       "            background-color: #4CAF50;\n",
       "            color: white;\n",
       "            padding: 6px;\n",
       "            font-size: 13px;\n",
       "        }\n",
       "        tr:nth-child(even) {\n",
       "            background-color: #f2f2f2;\n",
       "        }\n",
       "        td {\n",
       "            padding: 6px;\n",
       "            font-size: 11px; /* Smaller text inside cells */\n",
       "            max-width: 200px; /* Set max width for each cell */\n",
       "            word-wrap: break-word; /* Ensure text wraps properly */\n",
       "            white-space: normal; /* Allow text to wrap */\n",
       "            overflow-wrap: break-word; /* Ensure breaking works */\n",
       "        }\n",
       "        h2 {\n",
       "            color: #4CAF50; /* Green title */\n",
       "            font-size: 18px; /* Smaller title */\n",
       "        }\n",
       "    </style>\n",
       "    <h2>EXERCISE #4</h2>\n",
       "    <table>\n",
       "<thead>\n",
       "<tr><th style=\"text-align: right;\">  #</th><th>Task             </th><th>Input                   </th><th>Result               </th><th>Expected             </th><th>Status  </th></tr>\n",
       "</thead>\n",
       "<tbody>\n",
        
       "<tr><td style=\"text-align: right;\">  1</td><td>is_palindrome    </td><td>aba                     </td><td>True                 </td><td>True                 </td><td><span style=\"color:green;\n",
       "font-\n",
       "weight:bold;\">PASS</span>         </td></tr>\n",
       "<tr><td style=\"text-align: right;\">  2</td><td>is_palindrome    </td><td>hello                   </td><td>False                </td><td>False                </td><td><span style=\"color:green;\n",
       "font-\n",
       "weight:bold;\">PASS</span>         </td></tr>\n",
       "<tr><td style=\"text-align: right;\">  3</td><td>is_palindrome    </td><td>Aba                     </td><td>True                 </td><td>True                 </td><td><span style=\"color:green;\n",
       "font-\n",
       "weight:bold;\">PASS</span>         </td></tr>\n",
       "<tr><td style=\"text-align: right;\">  4</td><td>is_palindrome    </td><td>racecar                 </td><td>True                 </td><td>True                 </td><td><span style=\"color:green;\n",
       "font-\n",
       "weight:bold;\">PASS</span>         </td></tr>\n",
       "<tr><td style=\"text-align: right;\">  5</td><td>is_palindrome    </td><td>12321                   </td><td>True                 </td><td>True                 </td><td><span style=\"color:green;\n",
       "font-\n",
       "weight:bold;\">PASS</span>         </td></tr>\n",
       "<tr><td style=\"text-align: right;\">  6</td><td>is_palindrome    </td><td>Able was I, I saw Elba  </td><td>True                 </td><td>True                 </td><td><span style=\"color:green;\n",
       "font-\n",
       "weight:bold;\">PASS</span>         </td></tr>\n",
       "<tr><td style=\"text-align: right;\">  7</td><td>is_palindrome    </td><td>Palindrome              </td><td>False                </td><td>False                </td><td><span style=\"color:green;\n",
       "font-\n",
       "weight:bold;\">PASS</span>         </td></tr>\n",
       "<tr><td style=\"text-align: right;\">  8</td><td>reverse_words    </td><td>hello world             </td><td>olleh dlrow          </td><td>world hello          </td><td><span style=\"color:red;\n",
       "font-\n",
       "weight:bold;\">FAIL</span>         </td></tr>\n",
       "<tr><td style=\"text-align: right;\">  9</td><td>reverse_words    </td><td>Python is great         </td><td>nohtyP si taerg      </td><td>great is Python      </td><td><span style=\"color:red;\n",
       "font-\n",
       "weight:bold;\">FAIL</span>         </td></tr>\n",
       "<tr><td style=\"text-align: right;\"> 10</td><td>reverse_words    </td><td>a b c                   </td><td>a b c                </td><td>c b a                </td><td><span style=\"color:red;\n",
       "font-\n",
       "weight:bold;\">FAIL</span>         </td></tr>\n",
       "<tr><td style=\"text-align: right;\"> 11</td><td>reverse_words    </td><td>singleword              </td><td>drowelgnis           </td><td>singleword           </td><td><span style=\"color:red;\n",
       "font-\n",
       "weight:bold;\">FAIL</span>         </td></tr>\n",
       "<tr><td style=\"text-align: right;\"> 12</td><td>reverse_words    </td><td>hello   world           </td><td>olleh dlrow          </td><td>world hello          </td><td><span style=\"color:red;\n",
       "font-\n",
       "weight:bold;\">FAIL</span>         </td></tr>\n",
       "<tr><td style=\"text-align: right;\"> 13</td><td>reverse_words    </td><td>race car                </td><td>ecar rac             </td><td>car race             </td><td><span style=\"color:red;\n",
       "font-\n",
       "weight:bold;\">FAIL</span>         </td></tr>\n",
       "<tr><td style=\"text-align: right;\"> 14</td><td>reverse_words    </td><td>Reverse this sentence   </td><td>esreveR siht ecnetnes</td><td>sentence this Reverse</td><td><span style=\"color:red;\n",
       "font-\n",
       "weight:bold;\">FAIL</span>         </td></tr>\n",
       "<tr><td style=\"text-align: right;\"> 15</td><td>find_longest_word</td><td>['apple', 'banana',\n",
       "'cherry']                         </td><td>banana               </td><td>banana               </td><td><span style=\"color:green;\n",
       "font-\n",
       "weight:bold;\">PASS</span>         </td></tr>\n",
       "<tr><td style=\"text-align: right;\"> 16</td><td>find_longest_word</td><td>['a', 'bb', 'ccc']      </td><td>ccc                  </td><td>ccc                  </td><td><span style=\"color:green;\n",
       "font-\n",
       "weight:bold;\">PASS</span>         </td></tr>\n",
       "<tr><td style=\"text-align: right;\"> 17</td><td>find_longest_word</td><td>['same', 'length',\n",
       "'words']                         </td><td>length               </td><td>length               </td><td><span style=\"color:green;\n",
       "font-\n",
       "weight:bold;\">PASS</span>         </td></tr>\n",
       "<tr><td style=\"text-align: right;\"> 18</td><td>find_longest_word</td><td>['', 'nonempty', 'word']</td><td>nonempty             </td><td>nonempty             </td><td><span style=\"color:green;\n",
       "font-\n",
       "weight:bold;\">PASS</span>         </td></tr>\n",
       "<tr><td style=\"text-align: right;\"> 19</td><td>find_longest_word</td><td>['short', 'longer',\n",
       "'longest']                         </td><td>longest              </td><td>longest              </td><td><span style=\"color:green;\n",
       "font-\n",
       "weight:bold;\">PASS</span>         </td></tr>\n",
       "<tr><td style=\"text-align: right;\"> 20</td><td>find_longest_word</td><td>['Python', 'Java', 'C'] </td><td>Python               </td><td>Python               </td><td><span style=\"color:green;\n",
       "font-\n",
       "weight:bold;\">PASS</span>         </td></tr>\n",
       "<tr><td style=\"text-align: right;\"> 21</td><td>find_longest_word</td><td>['supercalifragilisticexp\n",
       "ialidocious', 'longword',\n",
       "'tiny']                         </td><td>supercalifragilisticexpia\n",
       "lidocious                      </td><td>supercalifragilisticexpia\n",
       "lidocious                      </td><td><span style=\"color:green;\n",
       "font-\n",
       "weight:bold;\">PASS</span>         </td></tr>\n",

       "</tbody>\n",
       "</table>\n",
       "    "
      ],
      "text/plain": [
       "<IPython.core.display.HTML object>"
      ]
     },
     "metadata": {},
     "output_type": "display_data"
    },
    {
     "data": {
      "text/html": [
       "\n",

       "    <h3 style=\"color: orange; font-size: 13px;\">Exercise #4 Score: 3.33/5.0</h3>\n",

      ],
      "text/plain": [
       "<IPython.core.display.HTML object>"
      ]
     },
     "metadata": {},
     "output_type": "display_data"
    },
    {
     "data": {
      "text/plain": [

       "3.33"
      ]
     },
     "execution_count": 44,

     "metadata": {},
     "output_type": "execute_result"
    }
   ],
   "source": [
    "test_exercise_4(\n",

    "    is_palindrome=is_palindorme,\n",

    "    reverse_words=reverse_words,\n",
    "    find_longest_word=find_longest_word\n",
    ")"
   ]
  },
  {
   "cell_type": "markdown",
   "metadata": {},
   "source": [
    "## Exercise #5\n",
    "\n",
    "*Intermediate-level problems to reinforce Python concepts*"
   ]
  },
  {
   "cell_type": "markdown",
   "metadata": {},
   "source": [
    "1. Write a function ***remove_duplicates(data: list[int]) -> list[int]*** that removes\n",
    "duplicates from a list while preserving the order of elements. (5 points)"
   ]
  },
  {
   "cell_type": "code",
   "execution_count": 513,
   "metadata": {},
   "outputs": [],
   "source": [
    "def remove_duplicates(data:list[int]):\n",
    "    finalL = []  # Create an empty list to store unique values\n",
    "\n",
    "    # Iterate through the input list\n",
    "    for i in data:\n",
    "        if i not in finalL:  # Check if the element is not already in finalL\n",
    "            finalL.append(i)  # Add the unique element to finalL\n",
    "\n",
    "    return finalL  # Return the list with duplicates removed"
   ]
  },
  {
   "cell_type": "markdown",
   "metadata": {},
   "source": [
    "2. Write a function ***group_by_key(data: list[tuple[str, int]]) -> dict[str, list[int]]***\n",
    "that groups values in data by their keys. For example, the input [(’a’, 1), (’b’, 2),\n",
    "(’a’, 3)] results in the dictionary {’a’: [1, 3], ’b’: [2]}. (5 points)"
   ]
  },
  {
   "cell_type": "code",
   "execution_count": null,
   "metadata": {},
   "outputs": [],
   "source": [
    "# Function that groups values in data by their keys\n",
    "def group_by_key(data: list[tuple[str, int]]):\n",
    "    # Creation of the dictionary to store the groups\n",
    "    group = {}\n",
    "\n",
    "    # Take key and val in data\n",
    "    for key, val in data:\n",
    "        # In case there are no data with the key an empty dictionary is made\n",
    "        if key not in group: \n",
    "            group[key] = []\n",
    "\n",
    "        # In case there is data with key, the value val is added to the dictionary\n",
    "        group[key].append(val)\n",
    "\n",
    "    # Returns the dictionary containing the grouped values\n",
    "    return group\n"

   ]
  },
  {
   "cell_type": "markdown",
   "metadata": {},
   "source": [
    "3. Write a function ***flatten_list(nested_list: list[list[int]]) -> list[int]*** that\n",
    "flattens a nested list of integers into a single list. For example, [[1, 2], [3, 4]] becomes\n",
    "[1, 2, 3, 4]. (5 points)"
   ]
  },
  {
   "cell_type": "code",

   "execution_count": 515,
   "metadata": {},
   "outputs": [],
   "source": [
    "def flatten_list(nested_list:list[list[int]]):\n",
    "    \n",
    "    flattened = []  # Create an empty list to store elements\n",
    "\n",
    "    for sublist in nested_list:  \n",
    "        flattened.extend(sublist)  # Add all elements from the sublist\n",
    "\n",
    "    return flattened  # Return the flattened list\n",
    "    "
   ]
  },
  {
   "cell_type": "markdown",
   "metadata": {},
   "source": [
    "### tests"
   ]
  },
  {
   "cell_type": "code",
   "execution_count": 516,
   "metadata": {},
   "outputs": [
    {
     "data": {
      "text/html": [
       "\n",
       "    <style>\n",
       "        table {\n",
       "            width: 100%;\n",
       "            border-collapse: collapse;\n",
       "            margin: 20px 0;\n",
       "            font-size: 14px; /* Smaller text */\n",
       "            text-align: left;\n",
       "        }\n",
       "        th {\n",
       "            background-color: #4CAF50;\n",
       "            color: white;\n",
       "            padding: 6px;\n",
       "            font-size: 13px;\n",
       "        }\n",
       "        tr:nth-child(even) {\n",
       "            background-color: #f2f2f2;\n",
       "        }\n",
       "        td {\n",
       "            padding: 6px;\n",
       "            font-size: 11px; /* Smaller text inside cells */\n",
       "            max-width: 200px; /* Set max width for each cell */\n",
       "            word-wrap: break-word; /* Ensure text wraps properly */\n",
       "            white-space: normal; /* Allow text to wrap */\n",
       "            overflow-wrap: break-word; /* Ensure breaking works */\n",
       "        }\n",
       "        h2 {\n",
       "            color: #4CAF50; /* Green title */\n",
       "            font-size: 18px; /* Smaller title */\n",
       "        }\n",
       "    </style>\n",
       "    <h2>EXERCISE #5</h2>\n",
       "    <table>\n",
       "<thead>\n",
       "<tr><th style=\"text-align: right;\">  #</th><th>Task             </th><th>Input                   </th><th>Result              </th><th>Expected               </th><th>Status  </th></tr>\n",
       "</thead>\n",
       "<tbody>\n",
       "<tr><td style=\"text-align: right;\">  1</td><td>remove_duplicates</td><td>[1, 2, 3, 2, 1]         </td><td>[1, 2, 3]           </td><td>[1, 2, 3]              </td><td><span style=\"color:green;\n",
       "font-\n",
       "weight:bold;\">PASS</span>         </td></tr>\n",
       "<tr><td style=\"text-align: right;\">  2</td><td>remove_duplicates</td><td>[1, 1, 1, 1]            </td><td>[1]                 </td><td>[1]                    </td><td><span style=\"color:green;\n",
       "font-\n",
       "weight:bold;\">PASS</span>         </td></tr>\n",
       "<tr><td style=\"text-align: right;\">  3</td><td>remove_duplicates</td><td>[1, 2, 3]               </td><td>[1, 2, 3]           </td><td>[1, 2, 3]              </td><td><span style=\"color:green;\n",
       "font-\n",
       "weight:bold;\">PASS</span>         </td></tr>\n",
       "<tr><td style=\"text-align: right;\">  4</td><td>remove_duplicates</td><td>[4, 4, 4, 5]            </td><td>[4, 5]              </td><td>[4, 5]                 </td><td><span style=\"color:green;\n",
       "font-\n",
       "weight:bold;\">PASS</span>         </td></tr>\n",
       "<tr><td style=\"text-align: right;\">  5</td><td>remove_duplicates</td><td>[10, 20, 10, 30, 20]    </td><td>[10, 20, 30]        </td><td>[10, 20, 30]           </td><td><span style=\"color:green;\n",
       "font-\n",
       "weight:bold;\">PASS</span>         </td></tr>\n",
       "<tr><td style=\"text-align: right;\">  6</td><td>remove_duplicates</td><td>[7, 8, 9, 7, 8]         </td><td>[7, 8, 9]           </td><td>[7, 8, 9]              </td><td><span style=\"color:green;\n",
       "font-\n",
       "weight:bold;\">PASS</span>         </td></tr>\n",
       "<tr><td style=\"text-align: right;\">  7</td><td>remove_duplicates</td><td>[1, 2, 1, 3, 2, 4]      </td><td>[1, 2, 3, 4]        </td><td>[1, 2, 3, 4]           </td><td><span style=\"color:green;\n",
       "font-\n",
       "weight:bold;\">PASS</span>         </td></tr>\n",
       "<tr><td style=\"text-align: right;\">  8</td><td>group_by_key     </td><td>[('a', 1), ('b', 2),\n",
       "('a', 3)]                         </td><td>1                   </td><td>{'a': [1, 3], 'b': [2]}</td><td><span style=\"color:red;\n",
       "font-\n",
       "weight:bold;\">FAIL</span>         </td></tr>\n",
       "<tr><td style=\"text-align: right;\">  9</td><td>group_by_key     </td><td>[('x', 10), ('x', 20),\n",
       "('y', 30)]                         </td><td>1                   </td><td>{'x': [10, 20], 'y':\n",
       "[30]}                        </td><td><span style=\"color:red;\n",
       "font-\n",
       "weight:bold;\">FAIL</span>         </td></tr>\n",
       "<tr><td style=\"text-align: right;\"> 10</td><td>group_by_key     </td><td>[('key', 100)]          </td><td>1                   </td><td>{'key': [100]}         </td><td><span style=\"color:red;\n",
       "font-\n",
       "weight:bold;\">FAIL</span>         </td></tr>\n",
       "<tr><td style=\"text-align: right;\"> 11</td><td>group_by_key     </td><td>[('a', 1), ('b', 2),\n",
       "('c', 3)]                         </td><td>1                   </td><td>{'a': [1], 'b': [2], 'c':\n",
       "[3]}                        </td><td><span style=\"color:red;\n",
       "font-\n",
       "weight:bold;\">FAIL</span>         </td></tr>\n",
       "<tr><td style=\"text-align: right;\"> 12</td><td>group_by_key     </td><td>[('k', 1), ('k', 2),\n",
       "('k', 3)]                         </td><td>1                   </td><td>{'k': [1, 2, 3]}       </td><td><span style=\"color:red;\n",
       "font-\n",
       "weight:bold;\">FAIL</span>         </td></tr>\n",
       "<tr><td style=\"text-align: right;\"> 13</td><td>group_by_key     </td><td>[('p', 10), ('q', 20),\n",
       "('p', 30), ('q', 40)]                         </td><td>1                   </td><td>{'p': [10, 30], 'q': [20,\n",
       "40]}                        </td><td><span style=\"color:red;\n",
       "font-\n",
       "weight:bold;\">FAIL</span>         </td></tr>\n",
       "<tr><td style=\"text-align: right;\"> 14</td><td>group_by_key     </td><td>[('a', 1), ('a', 1),\n",
       "('b', 2)]                         </td><td>1                   </td><td>{'a': [1, 1], 'b': [2]}</td><td><span style=\"color:red;\n",
       "font-\n",
       "weight:bold;\">FAIL</span>         </td></tr>\n",
       "<tr><td style=\"text-align: right;\"> 15</td><td>flatten_list     </td><td>[[1, 2, 3], [4, 5]]     </td><td>[1, 2, 3, 4, 5]     </td><td>[1, 2, 3, 4, 5]        </td><td><span style=\"color:green;\n",
       "font-\n",
       "weight:bold;\">PASS</span>         </td></tr>\n",
       "<tr><td style=\"text-align: right;\"> 16</td><td>flatten_list     </td><td>[[1], [2], [3]]         </td><td>[1, 2, 3]           </td><td>[1, 2, 3]              </td><td><span style=\"color:green;\n",
       "font-\n",
       "weight:bold;\">PASS</span>         </td></tr>\n",
       "<tr><td style=\"text-align: right;\"> 17</td><td>flatten_list     </td><td>[[1, 2], [3, 4], [5, 6]]</td><td>[1, 2, 3, 4, 5, 6]  </td><td>[1, 2, 3, 4, 5, 6]     </td><td><span style=\"color:green;\n",
       "font-\n",
       "weight:bold;\">PASS</span>         </td></tr>\n",
       "<tr><td style=\"text-align: right;\"> 18</td><td>flatten_list     </td><td>[[]]                    </td><td>[]                  </td><td>[]                     </td><td><span style=\"color:green;\n",
       "font-\n",
       "weight:bold;\">PASS</span>         </td></tr>\n",
       "<tr><td style=\"text-align: right;\"> 19</td><td>flatten_list     </td><td>[[1, 2], [], [3, 4]]    </td><td>[1, 2, 3, 4]        </td><td>[1, 2, 3, 4]           </td><td><span style=\"color:green;\n",
       "font-\n",
       "weight:bold;\">PASS</span>         </td></tr>\n",
       "<tr><td style=\"text-align: right;\"> 20</td><td>flatten_list     </td><td>[[10, 20], [30], [40,\n",
       "50]]                         </td><td>[10, 20, 30, 40, 50]</td><td>[10, 20, 30, 40, 50]   </td><td><span style=\"color:green;\n",
       "font-\n",
       "weight:bold;\">PASS</span>         </td></tr>\n",
       "<tr><td style=\"text-align: right;\"> 21</td><td>flatten_list     </td><td>[[1], [], [2, 3]]       </td><td>[1, 2, 3]           </td><td>[1, 2, 3]              </td><td><span style=\"color:green;\n",
       "font-\n",
       "weight:bold;\">PASS</span>         </td></tr>\n",
       "</tbody>\n",
       "</table>\n",
       "    "
      ],
      "text/plain": [
       "<IPython.core.display.HTML object>"
      ]
     },
     "metadata": {},
     "output_type": "display_data"
    },
    {
     "data": {
      "text/html": [
       "\n",
       "    <h3 style=\"color: orange; font-size: 13px;\">Exercise #5 Score: 3.33/5.0</h3>\n",
       "    "
      ],
      "text/plain": [
       "<IPython.core.display.HTML object>"
      ]
     },
     "metadata": {},
     "output_type": "display_data"
    },
    {
     "data": {
      "text/plain": [
       "3.33"
      ]
     },
     "execution_count": 516,
     "metadata": {},
     "output_type": "execute_result"
    }
   ],
   "source": [
    "test_exercise_5(\n",
    "    remove_duplicates=remove_duplicates,\n",
    "    group_by_key=group_by_key,\n",
    "    flatten_list=flatten_list\n",
    ")"
   ]

  }
 ],
 "metadata": {
  "kernelspec": {
   "display_name": "workshop1",
   "language": "python",
   "name": "python3"
  },
  "language_info": {
   "codemirror_mode": {
    "name": "ipython",
    "version": 3
   },
   "file_extension": ".py",
   "mimetype": "text/x-python",
   "name": "python",
   "nbconvert_exporter": "python",
   "pygments_lexer": "ipython3",
   "version": "3.12.3"
  }
 },
 "nbformat": 4,
 "nbformat_minor": 2
}
