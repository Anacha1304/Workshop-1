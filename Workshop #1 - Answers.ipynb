{
 "cells": [
  {
   "cell_type": "markdown",
   "metadata": {},
   "source": [
    "<h1 style=\"color: #0098a5;\">Advanced Data Analytics</h1>\n",
    "<h2>Workshop #1</h2>\n",
    "\n",
    "**Michael Steven Medina Fernández *0000296297***  \n",
    "**Ana María Chaves Pérez *0000298879***"
   ]
  },
  {
   "cell_type": "markdown",
   "metadata": {},
   "source": [
    "## Excercise #1\n",
    "\n",
    "1. Write a function char_count(s: str) -> dict[str, int] that returns a dictionary\n",
    "mapping each character in the string s to its frequency. "
   ]
  },
  {
   "cell_type": "code",
   "execution_count": 4,
   "metadata": {},
   "outputs": [
    {
     "name": "stdout",
     "output_type": "stream",
     "text": [
      "Aqui van los ejercicios uno\n"
     ]
    }
   ],
   "source": [
    "print(\"Aqui van los ejercicios uno\")"
   ]
  },
  {
   "cell_type": "markdown",
   "metadata": {},
   "source": [
    "2. Write a function generate_primes(n: int) -> list[int] that generates a list of all\n",
    "prime numbers less than or equal to n. (5 points)"
   ]
  },
  {
   "cell_type": "code",
   "execution_count": 17,
   "metadata": {},
   "outputs": [
    {
     "name": "stdout",
     "output_type": "stream",
     "text": [
      "This is the list of all prime numbers less or equal to 10: [2, 3, 5, 7]\n"
     ]
    }
   ],
   "source": [
    "# Function that checks if a number is prime\n",
    "def generate_primes(n: int):\n",
    "    # Checking if the number is less than 2, if it is the case them are NOT prime numbers\n",
    "    if n < 2:\n",
    "        return False\n",
    "    \n",
    "    # Checking divisor from 2 to the sqaure root of n\n",
    "    for i in range(2, int(n**0.5) + 1):\n",
    "        # Checking the modules of the numbers \n",
    "        if n % i == 0:\n",
    "            return False\n",
    "    return True\n",
    "    \n",
    "# Generation of the list that show the prime numbers less or equal\n",
    "primes = [x for x in range(2, n) if generate_primes(x)]\n",
    "\n",
    "# Pedir el número antes de usarlo\n",
    "n = int(input(\"Type a number: \"))\n",
    "\n",
    "# Imprimir los resultados\n",
    "print(f\"This is the list of all prime numbers less or equal to {n}: {primes}\")\n"
   ]
  },
  {
   "cell_type": "markdown",
   "metadata": {},
   "source": [
    "3. Write a function is_prime(n: int) -> bool that checks whether a given number n is\n",
    "a prime number. Return True if n is prime, False otherwise. (5 points)"
   ]
  },
  {
   "cell_type": "markdown",
   "metadata": {},
   "source": [
    "## Excercise #2"
   ]
  },
  {
   "cell_type": "code",
   "execution_count": null,
   "metadata": {},
   "outputs": [],
   "source": [
    "print(\"Hola\")"
   ]
  },
  {
   "cell_type": "markdown",
   "metadata": {},
   "source": [
    "## Excersise #3"
   ]
  }
 ],
 "metadata": {
  "kernelspec": {
   "display_name": "base",
   "language": "python",
   "name": "python3"
  },
  "language_info": {
   "codemirror_mode": {
    "name": "ipython",
    "version": 3
   },
   "file_extension": ".py",
   "mimetype": "text/x-python",
   "name": "python",
   "nbconvert_exporter": "python",
   "pygments_lexer": "ipython3",
   "version": "3.10.9"
  }
 },
 "nbformat": 4,
 "nbformat_minor": 2
}
