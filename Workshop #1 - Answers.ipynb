{
 "cells": [
  {
   "cell_type": "markdown",
   "metadata": {},
   "source": [
    "<h1 style=\"color: #0098a5;\">Advanced Data Analytics</h1>\n",
    "<h2>Workshop #1</h2>\n",
    "\n",
    "**Michael Steven Medina Fernández *0000296297***  \n",
    "**Ana María Chaves Pérez *0000298879***"
   ]
  },
  {
   "cell_type": "markdown",
   "metadata": {},
   "source": [
    "## Exercise #1\n",
    "\n",
    "*Explores Python concepts with creative and practical tasks*"
   ]
  },
  {
   "cell_type": "markdown",
   "metadata": {},
   "source": [
    "1. Write a function ***char_count(s: str) -> dict[str, int]*** that returns a dictionary\n",
    "mapping each character in the string s to its frequency. "
   ]
  },
  {
   "cell_type": "code",
   "execution_count": 1,
   "metadata": {},
   "outputs": [
    {
     "name": "stdout",
     "output_type": "stream",
     "text": [
      "{'t': 2, 'e': 2, 's': 3, ' ': 1, 'S': 1, 'u': 2, 'c': 2, 'f': 1, 'l': 1}\n"
     ]
    }
   ],
   "source": [
    "def char_count(s:str):\n",
    "    wordchar = {}\n",
    "    for i in s:\n",
    "        wordchar[i] = wordchar.get(i,0) + 1\n",
    "    print(wordchar)\n",
    "       \n",
    "char_count(\"test Successful\")"
   ]
  },
  {
   "cell_type": "markdown",
   "metadata": {},
   "source": [
    "2. Write a function ***generate_primes(n: int) -> list[int]*** that generates a list of all\n",
    "prime numbers less than or equal to n. (5 points)"
   ]
  },
  {
   "cell_type": "code",
   "execution_count": 19,
   "metadata": {},
   "outputs": [
    {
     "name": "stdout",
     "output_type": "stream",
     "text": [
      "This is the list of all prime numbers less or equal to 10: [2, 3, 5, 7, 11, 13, 17, 19]\n"
     ]
    }
   ],
   "source": [
    "# Function that checks if a number is prime\n",
    "def generate_primes(n: int):\n",
    "    # Checking if the number is less than 2, if it is the case them are NOT prime numbers\n",
    "    if n < 2:\n",
    "        return False\n",
    "    \n",
    "    # Checking divisor from 2 to the sqaure root of n\n",
    "    for i in range(2, int(n**0.5) + 1):\n",
    "        # Checking the modules of the numbers \n",
    "        if n % i == 0:\n",
    "            return False\n",
    "    return True\n",
    "    \n",
    "# Generation of the list that show the prime numbers less or equal\n",
    "primes = [x for x in range(2, 20) if generate_primes(x)]\n",
    "\n",
    "# Imprimir los resultados\n",
    "print(f\"This is the list of all prime numbers less or equal to {20}: {primes}\")\n"
   ]
  },
  {
   "cell_type": "markdown",
   "metadata": {},
   "source": [
    "3. Write a function ***is_prime(n: int) -> bool*** that checks whether a given number n is\n",
    "a prime number. Return True if n is prime, False otherwise. (5 points)"
   ]
  },
  {
   "cell_type": "code",
   "execution_count": 8,
   "metadata": {},
   "outputs": [
    {
     "data": {
      "text/plain": [
       "False"
      ]
     },
     "execution_count": 8,
     "metadata": {},
     "output_type": "execute_result"
    }
   ],
   "source": [
    "def  is_Prime(n:int):\n",
    "    for i in range (2,n):\n",
    "        if n % i == 0:\n",
    "            return False\n",
    "    return True\n",
    "\n",
    "\n",
    "is_Prime(4)\n"
   ]
  },
  {
   "cell_type": "code",
   "execution_count": 103,
   "metadata": {},
   "outputs": [
    {
     "data": {
      "text/plain": [
       "True"
      ]
     },
     "execution_count": 103,
     "metadata": {},
     "output_type": "execute_result"
    }
   ],
   "source": [
    "is_Prime(887)"
   ]
  },
  {
   "cell_type": "markdown",
   "metadata": {},
   "source": [
    "## Exercise #2\n",
    "\n",
    "*Problems to understand and tackle the basics of mathematical opera-\n",
    "tions in Python*"
   ]
  },
  {
   "cell_type": "markdown",
   "metadata": {},
   "source": [
    "1. Write a function ***factorial(n: int) -> int*** that calculates the factorial of a given\n",
    "number n iteratively. (5 points)"
   ]
  },
  {
   "cell_type": "code",
   "execution_count": 20,
   "metadata": {},
   "outputs": [
    {
     "name": "stdout",
     "output_type": "stream",
     "text": [
      "120\n"
     ]
    }
   ],
   "source": [
    "# Definition of the function that verify a factorial number\n",
    "def factorial(n):\n",
    "    # Verification if the number is 0 or 1 because its factorial is 1\n",
    "    if n == 0 or n == 1:\n",
    "        return 1\n",
    "    # All the other verifications with a recursive call\n",
    "    else:\n",
    "        # Multiplies n by factorial of n-1\n",
    "        return n*factorial(n-1)\n",
    "print(factorial(5))"
   ]
  },
  {
   "cell_type": "markdown",
   "metadata": {},
   "source": [
    "2. Write a function ***fibonacci(n: int) -> list[int]*** that generates a list containing the\n",
    "first n numbers in the Fibonacci sequence. (5 points)"
   ]
  },
  {
   "cell_type": "markdown",
   "metadata": {},
   "source": [
    "3. Write a function ***sum_naturals(n: int) -> int*** that calculates the sum of the first n\n",
    "natural numbers. (5 points)"
   ]
  },
  {
   "cell_type": "code",
   "execution_count": 7,
   "metadata": {},
   "outputs": [
    {
     "name": "stdout",
     "output_type": "stream",
     "text": [
      "15\n",
      "False\n"
     ]
    }
   ],
   "source": [
    "def sum_naturals(n: int):\n",
    "        if n < 1: \n",
    "            return False\n",
    "        else: \n",
    "            return n * (n + 1) // 2\n",
    "\n",
    "print(sum_naturals(5))\n",
    "print(sum_naturals(-5))\n",
    "\n"
   ]
  },
  {
   "cell_type": "markdown",
   "metadata": {},
   "source": [
    "## Exercise #3\n",
    "\n",
    "*Problems to understand and tackle the basics of statistical operations\n",
    "in Python*"
   ]
  },
  {
   "cell_type": "markdown",
   "metadata": {},
   "source": [
    "1. Write a function ***calculate_stats(data: list[float]) -> tuple[float, float, float]***\n",
    "that calculates the mean, median, and mode of a given list of numbers. (5 points)"
   ]
  },
  {
   "cell_type": "markdown",
   "metadata": {},
   "source": [
    "2. Write a function ***variance_and_std(data: list[float]) -> tuple[float, float]*** that\n",
    "calculates the variance and standard deviation of a dataset. (5 points)"
   ]
  },
  {
   "cell_type": "markdown",
   "metadata": {},
   "source": [
    "3. Write a function ***weighted_mean(data: list[float], weights: list[float]) -> float***\n",
    "that calculates the weighted mean of a dataset data given a corresponding list of weights\n",
    "weights. Ensure both lists have the same length. (5 points)"
   ]
  },
  {
   "cell_type": "markdown",
   "metadata": {},
   "source": [
    "## Exercise #4\n",
    "\n",
    "*Analytical problems to develop problem-solving and logical reasoning\n",
    "in Python*"
   ]
  },
  {
   "cell_type": "markdown",
   "metadata": {},
   "source": [
    "1. Write a function ***is_palindrome(s: str) -> bool*** that checks if a given string s is a\n",
    "palindrome. Return True if it is, False otherwise. (5 points)"
   ]
  },
  {
   "cell_type": "markdown",
   "metadata": {},
   "source": [
    "2. Write a function ***reverse_words(sentence: str) -> str*** that reverses the words in a\n",
    "sentence while preserving their order. (5 points"
   ]
  },
  {
   "cell_type": "markdown",
   "metadata": {},
   "source": [
    "3. Write a function ***find_longest_word(words: list[str]) -> str*** that returns the longest\n",
    "word from a list of strings. If there is a tie, return the first one. (5 points)"
   ]
  },
  {
   "cell_type": "markdown",
   "metadata": {},
   "source": [
    "## Exercise #5\n",
    "\n",
    "*Intermediate-level problems to reinforce Python concepts*"
   ]
  },
  {
   "cell_type": "markdown",
   "metadata": {},
   "source": [
    "1. Write a function ***remove_duplicates(data: list[int]) -> list[int]*** that removes\n",
    "duplicates from a list while preserving the order of elements. (5 points)"
   ]
  },
  {
   "cell_type": "markdown",
   "metadata": {},
   "source": [
    "2. Write a function ***group_by_key(data: list[tuple[str, int]]) -> dict[str, list[int]]***\n",
    "that groups values in data by their keys. For example, the input [(’a’, 1), (’b’, 2),\n",
    "(’a’, 3)] results in the dictionary {’a’: [1, 3], ’b’: [2]}. (5 points)"
   ]
  },
  {
   "cell_type": "markdown",
   "metadata": {},
   "source": [
    "3. Write a function ***flatten_list(nested_list: list[list[int]]) -> list[int]*** that\n",
    "flattens a nested list of integers into a single list. For example, [[1, 2], [3, 4]] becomes\n",
    "[1, 2, 3, 4]. (5 points)"
   ]
  }
 ],
 "metadata": {
  "kernelspec": {
   "display_name": "base",
   "language": "python",
   "name": "python3"
  },
  "language_info": {
   "codemirror_mode": {
    "name": "ipython",
    "version": 3
   },
   "file_extension": ".py",
   "mimetype": "text/x-python",
   "name": "python",
   "nbconvert_exporter": "python",
   "pygments_lexer": "ipython3",
   "version": "3.12.3"
  }
 },
 "nbformat": 4,
 "nbformat_minor": 2
}
